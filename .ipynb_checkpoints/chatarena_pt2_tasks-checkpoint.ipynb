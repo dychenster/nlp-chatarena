{
 "cells": [
  {
   "cell_type": "markdown",
   "metadata": {},
   "source": [
    "# **Project Overview** \n",
    "As the capabilities of Large Language Models (LLMs) continue to grow, evaluating their performance has become more important than ever, especially in the face of the biases that can be embedded in them [1]. Human evaluation of LLMs is crucial, yet poses a variety of challenges due to the inherently subjective nature of human assessments. What one user considers to be a “good” response may not be perceived as such by another user, leading to inconsistent feedback of LLM performance [2]. Additionally, there is currently no “standard” methodology or consensus on best practices for the human evaluation of LLMs, making it challenging to compare different research results studying their performance [3]. Ultimately, these factors make it difficult to integrate stable human evaluations into the development and refinement process of LLMs. \n",
    "\n",
    "\n",
    "In an effort to address this gap, a group of researchers created the “Chatbot Arena,” which is “an open platform for evaluating LLMs based on human preferences” [4]. Much like using a traditional LLM, users can pose questions (hereinafter referred to as “prompts”) and receive answers (hereinafter referred to as “responses”) from an LLM. However, unlike traditional LLMs, users receive two different responses from two different models presented side-by-side. The user is asked to select the response they prefer or select a tie. The model is anonymous, meaning that the user does not know which model produced the responses until after they have selected the winner. This eliminates any potential biases that might arise from name recognition or previous experiences with specific models.\n",
    "\n",
    "\n",
    "Using a select dataset of over 17,000 conversations from the Chatbot Arena, we attempt to investigate and understand user preferences in various LLM interactions. Based on the user’s prompt, the two model responses, the selected “winner,” topic modeling data, and the prompt’s hardness scores, we attempt to complete two primary tasks. The first task (Task A) is the prediction of the winning model between Model A and Model B. The second task (Task B) is the prediction of the hardness score of the user’s prompt. \n",
    "\n",
    "\n",
    "The research questions for this project are as follows:\n",
    "* **RQ1:** *Can we use logistic regression to predict if “Model A” or “Model B” will be selected as the winner by a random user in a Chatbot Arena “battle”?*\n",
    "* **RQ2:** *Can we use linear regression to predict the hardness score of a given prompt?*"
   ]
  },
  {
   "cell_type": "code",
   "execution_count": null,
   "metadata": {},
   "outputs": [],
   "source": []
  },
  {
   "cell_type": "markdown",
   "metadata": {},
   "source": [
    "***In this notebook, you will the find logistic and linear regression models that have been feature engineered to predict model performance in battle and prompt difficulty in response to RQ1 and RQ2. It is the second of two notebooks used for this project.***"
   ]
  },
  {
   "cell_type": "markdown",
   "metadata": {
    "id": "_nuhZF6AxHc7"
   },
   "source": [
    "# **1. Import libraries & data**"
   ]
  },
  {
   "cell_type": "code",
   "execution_count": 1,
   "metadata": {
    "colab": {
     "base_uri": "https://localhost:8080/"
    },
    "id": "igTEjtbQw1AZ",
    "outputId": "ff9147e8-6d63-47c9-a0c3-ca69743f20aa",
    "scrolled": true
   },
   "outputs": [],
   "source": [
    "# IMPORTS\n",
    "from collections import defaultdict  # https://docs.python.org/3/library/collections.html Return a new dictionary-like object.\n",
    "import json, math, gdown\n",
    "import numpy as np\n",
    "import pandas as pd\n",
    "import plotly.express as px\n",
    "from tqdm import tqdm\n",
    "\n",
    "import matplotlib.pyplot as plt\n",
    "import seaborn as sns\n",
    "\n",
    "from sklearn.model_selection import train_test_split\n",
    "from sklearn.linear_model import LogisticRegression\n",
    "from sklearn.metrics import classification_report, confusion_matrix\n",
    "from sklearn.metrics import accuracy_score\n",
    "from sklearn.cluster import KMeans\n",
    "from sklearn.metrics import confusion_matrix\n",
    "from sklearn.preprocessing import OneHotEncoder\n",
    "from sklearn.preprocessing import StandardScaler\n",
    "from sklearn.preprocessing import LabelEncoder\n",
    "\n",
    "from sklearn.model_selection import KFold\n",
    "from sklearn.model_selection import cross_val_score\n",
    "\n",
    "import textstat\n",
    "\n",
    "sns.set_theme(style=\"whitegrid\")\n",
    "pd.options.display.float_format = '{:.2f}'.format"
   ]
  },
  {
   "cell_type": "code",
   "execution_count": 2,
   "metadata": {
    "colab": {
     "base_uri": "https://localhost:8080/"
    },
    "id": "GGtoHeGepX9F",
    "outputId": "c8300420-537e-4295-f6b4-432bbd767a70"
   },
   "outputs": [
    {
     "name": "stdout",
     "output_type": "stream",
     "text": [
      "Embeddings loaded successfully into Colab.\n"
     ]
    }
   ],
   "source": [
    "# Embeddings\n",
    "import requests\n",
    "import numpy as np\n",
    "from io import BytesIO\n",
    "\n",
    "# URL of the raw .npy file\n",
    "file_url = \"https://github.com/dychenster/nlp-chatarena/blob/main/chatbot-arena-prompts-embeddings.npy?raw=true\"\n",
    "\n",
    "# Use requests to get the file content\n",
    "response = requests.get(file_url)\n",
    "\n",
    "# Make sure the request was successful\n",
    "if response.status_code == 200:\n",
    "    # Load the content into a numpy array\n",
    "    content = BytesIO(response.content)\n",
    "    embeddings = np.load(content)\n",
    "    print(\"Embeddings loaded successfully into Colab.\")\n",
    "else:\n",
    "    print(f\"Failed to load the file. Status code: {response.status_code}\")"
   ]
  },
  {
   "cell_type": "code",
   "execution_count": 3,
   "metadata": {
    "colab": {
     "base_uri": "https://localhost:8080/",
     "height": 98
    },
    "id": "abIJU_L4w-iF",
    "outputId": "b100d01a-e6cf-4352-cc8e-99548fc04740"
   },
   "outputs": [
    {
     "data": {
      "text/html": [
       "<div>\n",
       "<style scoped>\n",
       "    .dataframe tbody tr th:only-of-type {\n",
       "        vertical-align: middle;\n",
       "    }\n",
       "\n",
       "    .dataframe tbody tr th {\n",
       "        vertical-align: top;\n",
       "    }\n",
       "\n",
       "    .dataframe thead th {\n",
       "        text-align: right;\n",
       "    }\n",
       "</style>\n",
       "<table border=\"1\" class=\"dataframe\">\n",
       "  <thead>\n",
       "    <tr style=\"text-align: right;\">\n",
       "      <th></th>\n",
       "      <th>question_id</th>\n",
       "      <th>model_a</th>\n",
       "      <th>model_b</th>\n",
       "      <th>winner</th>\n",
       "      <th>judge</th>\n",
       "      <th>conversation_a</th>\n",
       "      <th>conversation_b</th>\n",
       "    </tr>\n",
       "  </thead>\n",
       "  <tbody>\n",
       "    <tr>\n",
       "      <th>0</th>\n",
       "      <td>58210e39b3fd4441a2bd4a518bb44c2d</td>\n",
       "      <td>chatglm-6b</td>\n",
       "      <td>koala-13b</td>\n",
       "      <td>model_b</td>\n",
       "      <td>arena_user_973</td>\n",
       "      <td>[{'content': 'What is the difference between O...</td>\n",
       "      <td>[{'content': 'What is the difference between O...</td>\n",
       "    </tr>\n",
       "  </tbody>\n",
       "</table>\n",
       "</div>"
      ],
      "text/plain": [
       "                        question_id     model_a    model_b   winner  \\\n",
       "0  58210e39b3fd4441a2bd4a518bb44c2d  chatglm-6b  koala-13b  model_b   \n",
       "\n",
       "            judge                                     conversation_a  \\\n",
       "0  arena_user_973  [{'content': 'What is the difference between O...   \n",
       "\n",
       "                                      conversation_b  \n",
       "0  [{'content': 'What is the difference between O...  "
      ]
     },
     "execution_count": 3,
     "metadata": {},
     "output_type": "execute_result"
    }
   ],
   "source": [
    "# Load in Chatbot Arena Conversations Dataset\n",
    "\n",
    "# Provide the raw URL of the JSON file\n",
    "url_conversations = \"https://raw.githubusercontent.com/dychenster/nlp-chatarena/main/chatbot-arena-conversations.jsonl.gz\"\n",
    "\n",
    "# Read the JSON file into a DataFrame\n",
    "conversations = pd.read_json(url_conversations, lines=True)\n",
    "\n",
    "# Display the first row of the data\n",
    "conversations.head(1)"
   ]
  },
  {
   "cell_type": "code",
   "execution_count": 4,
   "metadata": {
    "colab": {
     "base_uri": "https://localhost:8080/"
    },
    "id": "z7YTglh4A_Pc",
    "outputId": "d7115d98-cdf9-4dfb-b59f-fca3091576d4"
   },
   "outputs": [
    {
     "data": {
      "text/plain": [
       "(25322, 12)"
      ]
     },
     "execution_count": 4,
     "metadata": {},
     "output_type": "execute_result"
    }
   ],
   "source": [
    "# Load in Related Topic & Hardness Dataset\n",
    "\n",
    "# Provide the raw URL of the JSON file\n",
    "url_scores = \"https://raw.githubusercontent.com/dychenster/nlp-chatarena/main/chatbot-arena-gpt3-scores.jsonl.gz\"\n",
    "\n",
    "# Read the JSON file into a DataFrame\n",
    "topic_and_hardness = pd.read_json(url_scores, lines=True)\n",
    "\n",
    "# Display the first row of the data\n",
    "topic_and_hardness.head(1)\n",
    "topic_and_hardness.shape"
   ]
  },
  {
   "cell_type": "markdown",
   "metadata": {
    "id": "6_cvv7z9Xg4S"
   },
   "source": [
    "# **2. Data Cleaning & Preparing for Modeling**"
   ]
  },
  {
   "cell_type": "markdown",
   "metadata": {
    "id": "a6tXmmjWxWJ1"
   },
   "source": [
    "## 2a. ChatArena Data"
   ]
  },
  {
   "cell_type": "code",
   "execution_count": 5,
   "metadata": {
    "id": "7lnAy-JUxeGv"
   },
   "outputs": [],
   "source": [
    "# Create a prompt column\n",
    "conversations[\"prompt\"] = conversations[\"conversation_a\"].str[0].str[\"content\"]\n",
    "\n",
    "# Create a response columns\n",
    "conversations[\"model_a_response\"] = conversations[\"conversation_a\"].str[1].str[\"content\"]\n",
    "conversations[\"model_b_response\"] = conversations[\"conversation_b\"].str[1].str[\"content\"]\n",
    "\n",
    "# Create prompt and response length columns\n",
    "conversations[\"prompt_length\"] = conversations[\"prompt\"].str.len()\n",
    "conversations[\"response_a_length\"] = conversations[\"model_a_response\"].str.len()\n",
    "conversations[\"response_b_length\"] = conversations[\"model_b_response\"].str.len()\n",
    "\n",
    "# Remove rows with tie (bothbad) and tie as winners\n",
    "conversations = conversations.loc[~conversations[\"winner\"].isin([\"tie (bothbad)\", \"tie\"])]\n",
    "\n",
    "# Remove conversation_a and conversation_b columns\n",
    "conversations.drop(columns=[\"conversation_a\", \"conversation_b\"], inplace=True)"
   ]
  },
  {
   "cell_type": "code",
   "execution_count": 6,
   "metadata": {
    "colab": {
     "base_uri": "https://localhost:8080/",
     "height": 205
    },
    "id": "dC3SSL7nzHXk",
    "outputId": "07b51ae8-0ee1-46a8-cbf9-6dcd9a9cd650"
   },
   "outputs": [
    {
     "data": {
      "text/html": [
       "<div>\n",
       "<style scoped>\n",
       "    .dataframe tbody tr th:only-of-type {\n",
       "        vertical-align: middle;\n",
       "    }\n",
       "\n",
       "    .dataframe tbody tr th {\n",
       "        vertical-align: top;\n",
       "    }\n",
       "\n",
       "    .dataframe thead th {\n",
       "        text-align: right;\n",
       "    }\n",
       "</style>\n",
       "<table border=\"1\" class=\"dataframe\">\n",
       "  <thead>\n",
       "    <tr style=\"text-align: right;\">\n",
       "      <th></th>\n",
       "      <th>question_id</th>\n",
       "      <th>model_a</th>\n",
       "      <th>model_b</th>\n",
       "      <th>winner</th>\n",
       "      <th>winner_name</th>\n",
       "      <th>judge</th>\n",
       "      <th>prompt</th>\n",
       "      <th>model_a_response</th>\n",
       "      <th>model_b_response</th>\n",
       "      <th>prompt_length</th>\n",
       "      <th>response_a_length</th>\n",
       "      <th>response_b_length</th>\n",
       "    </tr>\n",
       "  </thead>\n",
       "  <tbody>\n",
       "    <tr>\n",
       "      <th>0</th>\n",
       "      <td>58210e39b3fd4441a2bd4a518bb44c2d</td>\n",
       "      <td>chatglm-6b</td>\n",
       "      <td>koala-13b</td>\n",
       "      <td>model_b</td>\n",
       "      <td>koala-13b</td>\n",
       "      <td>arena_user_973</td>\n",
       "      <td>What is the difference between OpenCL and CUDA?</td>\n",
       "      <td>OpenCL and CUDA are two different programming ...</td>\n",
       "      <td>OpenCL and CUDA are both programming languages...</td>\n",
       "      <td>47</td>\n",
       "      <td>892</td>\n",
       "      <td>1905</td>\n",
       "    </tr>\n",
       "  </tbody>\n",
       "</table>\n",
       "</div>"
      ],
      "text/plain": [
       "                        question_id     model_a    model_b   winner  \\\n",
       "0  58210e39b3fd4441a2bd4a518bb44c2d  chatglm-6b  koala-13b  model_b   \n",
       "\n",
       "  winner_name           judge  \\\n",
       "0   koala-13b  arena_user_973   \n",
       "\n",
       "                                            prompt  \\\n",
       "0  What is the difference between OpenCL and CUDA?   \n",
       "\n",
       "                                    model_a_response  \\\n",
       "0  OpenCL and CUDA are two different programming ...   \n",
       "\n",
       "                                    model_b_response  prompt_length  \\\n",
       "0  OpenCL and CUDA are both programming languages...             47   \n",
       "\n",
       "   response_a_length  response_b_length  \n",
       "0                892               1905  "
      ]
     },
     "execution_count": 6,
     "metadata": {},
     "output_type": "execute_result"
    }
   ],
   "source": [
    "# Reorganize conversations dataframe columns\n",
    "\n",
    "conversations[\"winner_name\"] = np.where(conversations[\"winner\"] == \"model_a\", conversations[\"model_a\"], conversations[\"model_b\"])\n",
    "col = conversations.pop(\"winner_name\")\n",
    "conversations.insert(4, \"winner_name\", col)\n",
    "\n",
    "conversations.head(1)"
   ]
  },
  {
   "cell_type": "code",
   "execution_count": 7,
   "metadata": {
    "colab": {
     "base_uri": "https://localhost:8080/"
    },
    "id": "LRZN5CYP6RQs",
    "outputId": "42b74a0e-71ec-4146-9bf0-b27038c51de1"
   },
   "outputs": [
    {
     "data": {
      "text/plain": [
       "gpt-4                     0.85\n",
       "claude-v1                 0.80\n",
       "claude-instant-v1         0.76\n",
       "gpt-3.5-turbo             0.71\n",
       "vicuna-13b                0.62\n",
       "guanaco-33b               0.60\n",
       "palm-2                    0.59\n",
       "wizardlm-13b              0.54\n",
       "koala-13b                 0.51\n",
       "vicuna-7b                 0.45\n",
       "mpt-7b-chat               0.35\n",
       "alpaca-13b                0.35\n",
       "oasst-pythia-12b          0.35\n",
       "gpt4all-13b-snoozy        0.34\n",
       "RWKV-4-Raven-14B          0.34\n",
       "chatglm-6b                0.30\n",
       "fastchat-t5-3b            0.30\n",
       "stablelm-tuned-alpha-7b   0.26\n",
       "dolly-v2-12b              0.23\n",
       "llama-13b                 0.20\n",
       "Name: count, dtype: float64"
      ]
     },
     "execution_count": 7,
     "metadata": {},
     "output_type": "execute_result"
    }
   ],
   "source": [
    "# Calculate win rate of each model\n",
    "\n",
    "conversations[\"winner_name\"].value_counts()\n",
    "\n",
    "win_rates = conversations[\"winner_name\"].value_counts() / (conversations[\"model_a\"].value_counts() + conversations[\"model_b\"].value_counts())\n",
    "win_rates.sort_values(ascending=False)"
   ]
  },
  {
   "cell_type": "code",
   "execution_count": 8,
   "metadata": {
    "colab": {
     "base_uri": "https://localhost:8080/",
     "height": 35
    },
    "id": "dBhNz9hYxyn0",
    "outputId": "6ab9daea-5f88-42e4-93a1-2f9b9faf87fd"
   },
   "outputs": [
    {
     "data": {
      "text/plain": [
       "\"The proportion of times the longer response was chosen as the 'winner': 0.6331321260898726\""
      ]
     },
     "metadata": {},
     "output_type": "display_data"
    }
   ],
   "source": [
    "# Look at how often the longer responses were selected as the \"winner\"\n",
    "\n",
    "conversations[\"length_difference\"] = conversations[\"response_a_length\"] - conversations[\"response_b_length\"]\n",
    "conversations[\"longer_response\"] = conversations.apply(lambda row: \"model_a\" if row[\"length_difference\"] > 0 else \"model_b\", axis=1)\n",
    "\n",
    "longer_response_chosen_count = (conversations['winner'] == conversations['longer_response']).sum()\n",
    "\n",
    "display(\"The proportion of times the longer response was chosen as the 'winner': \" + str(longer_response_chosen_count/len(conversations)))"
   ]
  },
  {
   "cell_type": "markdown",
   "metadata": {
    "id": "kA0iYrHg5KFn"
   },
   "source": [
    "## 2b. Topic & Hardness Data"
   ]
  },
  {
   "cell_type": "code",
   "execution_count": 9,
   "metadata": {
    "colab": {
     "base_uri": "https://localhost:8080/"
    },
    "id": "vjydUgbO5TPC",
    "outputId": "a615798d-abcd-462b-cdf5-55844a08530d"
   },
   "outputs": [
    {
     "name": "stdout",
     "output_type": "stream",
     "text": [
      "score_value_1    0\n",
      "score_value_2    0\n",
      "score_value_3    0\n",
      "dtype: int64\n"
     ]
    },
    {
     "data": {
      "text/plain": [
       "question_id                         object\n",
       "prompt                              object\n",
       "openai_scores_raw_choices_nested    object\n",
       "topic_modeling_1                    object\n",
       "score_reason_1                      object\n",
       "score_value_1                        int64\n",
       "topic_modeling_2                    object\n",
       "score_reason_2                      object\n",
       "score_value_2                        int64\n",
       "topic_modeling_3                    object\n",
       "score_reason_3                      object\n",
       "score_value_3                        int64\n",
       "dtype: object"
      ]
     },
     "execution_count": 9,
     "metadata": {},
     "output_type": "execute_result"
    }
   ],
   "source": [
    "# Remove null values from scores values\n",
    "topic_and_hardness = topic_and_hardness.dropna(subset=['score_value_1', 'score_value_2', 'score_value_3'])\n",
    "print(topic_and_hardness[['score_value_1', 'score_value_2', 'score_value_3']].isna().sum())\n",
    "\n",
    "# Change all score values to be numeric\n",
    "topic_and_hardness.loc[:,'score_value_1'] = pd.to_numeric(topic_and_hardness['score_value_1'], errors='coerce')\n",
    "topic_and_hardness.loc[:,'score_value_2'] = pd.to_numeric(topic_and_hardness['score_value_2'], errors='coerce')\n",
    "topic_and_hardness.loc[:,'score_value_3'] = pd.to_numeric(topic_and_hardness['score_value_3'], errors='coerce')\n",
    "\n",
    "# Drop any resulting null values\n",
    "topic_and_hardness= topic_and_hardness.dropna(subset=['score_value_1', 'score_value_2', 'score_value_3'])\n",
    "\n",
    "# Change all score values to be integers\n",
    "topic_and_hardness['score_value_1'] = topic_and_hardness['score_value_1'].astype(np.int64)\n",
    "topic_and_hardness['score_value_2'] = topic_and_hardness['score_value_2'].astype(np.int64)\n",
    "topic_and_hardness['score_value_3'] = topic_and_hardness['score_value_3'].astype(np.int64)\n",
    "\n",
    "# Verify all score values are integers\n",
    "topic_and_hardness.dtypes"
   ]
  },
  {
   "cell_type": "markdown",
   "metadata": {
    "id": "3m38Qydp6o9w"
   },
   "source": [
    "## 2c. Merged Data"
   ]
  },
  {
   "cell_type": "code",
   "execution_count": 10,
   "metadata": {
    "colab": {
     "base_uri": "https://localhost:8080/",
     "height": 234
    },
    "id": "EDfFPtGf5hV7",
    "outputId": "7570e129-a3e3-41a1-acd0-583be5e66603"
   },
   "outputs": [],
   "source": [
    "# Merge conversations and topic/hardness dataframes\n",
    "merged_df = conversations.merge(topic_and_hardness, on=\"question_id\")"
   ]
  },
  {
   "cell_type": "code",
   "execution_count": 11,
   "metadata": {
    "colab": {
     "base_uri": "https://localhost:8080/",
     "height": 205
    },
    "id": "iOuQmbvTA5mh",
    "outputId": "a8cbcb86-7f4d-43cd-c0a6-a4d05f66f007"
   },
   "outputs": [],
   "source": [
    "# Reorganize merged dataframe\n",
    "\n",
    "# Remove certain columns\n",
    "merged_df.drop(columns=[\"openai_scores_raw_choices_nested\", \"topic_modeling_1\", \"topic_modeling_2\", \"topic_modeling_3\", \"score_reason_1\", \"score_reason_2\", \"score_reason_3\", \"prompt_y\"], inplace=True)\n",
    "\n",
    "# Rename prompt column\n",
    "merged_df.rename(columns={\"prompt_x\":\"prompt\"}, inplace=True)"
   ]
  },
  {
   "cell_type": "code",
   "execution_count": 12,
   "metadata": {
    "colab": {
     "base_uri": "https://localhost:8080/"
    },
    "id": "71tOquRW7Dpv",
    "outputId": "82ef28bb-bc8c-4497-d6e2-468c971960dd"
   },
   "outputs": [
    {
     "data": {
      "text/html": [
       "<div>\n",
       "<style scoped>\n",
       "    .dataframe tbody tr th:only-of-type {\n",
       "        vertical-align: middle;\n",
       "    }\n",
       "\n",
       "    .dataframe tbody tr th {\n",
       "        vertical-align: top;\n",
       "    }\n",
       "\n",
       "    .dataframe thead th {\n",
       "        text-align: right;\n",
       "    }\n",
       "</style>\n",
       "<table border=\"1\" class=\"dataframe\">\n",
       "  <thead>\n",
       "    <tr style=\"text-align: right;\">\n",
       "      <th></th>\n",
       "      <th>question_id</th>\n",
       "      <th>model_a</th>\n",
       "      <th>model_b</th>\n",
       "      <th>winner</th>\n",
       "      <th>winner_name</th>\n",
       "      <th>judge</th>\n",
       "      <th>prompt</th>\n",
       "      <th>model_a_response</th>\n",
       "      <th>model_b_response</th>\n",
       "      <th>prompt_length</th>\n",
       "      <th>response_a_length</th>\n",
       "      <th>response_b_length</th>\n",
       "      <th>length_difference</th>\n",
       "      <th>longer_response</th>\n",
       "      <th>score_value_1</th>\n",
       "      <th>score_value_2</th>\n",
       "      <th>score_value_3</th>\n",
       "      <th>average_score</th>\n",
       "      <th>total_hardness</th>\n",
       "    </tr>\n",
       "  </thead>\n",
       "  <tbody>\n",
       "    <tr>\n",
       "      <th>0</th>\n",
       "      <td>58210e39b3fd4441a2bd4a518bb44c2d</td>\n",
       "      <td>chatglm-6b</td>\n",
       "      <td>koala-13b</td>\n",
       "      <td>model_b</td>\n",
       "      <td>koala-13b</td>\n",
       "      <td>arena_user_973</td>\n",
       "      <td>What is the difference between OpenCL and CUDA?</td>\n",
       "      <td>OpenCL and CUDA are two different programming ...</td>\n",
       "      <td>OpenCL and CUDA are both programming languages...</td>\n",
       "      <td>47</td>\n",
       "      <td>892</td>\n",
       "      <td>1905</td>\n",
       "      <td>-1013</td>\n",
       "      <td>model_b</td>\n",
       "      <td>9</td>\n",
       "      <td>8</td>\n",
       "      <td>9</td>\n",
       "      <td>8.67</td>\n",
       "      <td>26</td>\n",
       "    </tr>\n",
       "  </tbody>\n",
       "</table>\n",
       "</div>"
      ],
      "text/plain": [
       "                        question_id     model_a    model_b   winner  \\\n",
       "0  58210e39b3fd4441a2bd4a518bb44c2d  chatglm-6b  koala-13b  model_b   \n",
       "\n",
       "  winner_name           judge  \\\n",
       "0   koala-13b  arena_user_973   \n",
       "\n",
       "                                            prompt  \\\n",
       "0  What is the difference between OpenCL and CUDA?   \n",
       "\n",
       "                                    model_a_response  \\\n",
       "0  OpenCL and CUDA are two different programming ...   \n",
       "\n",
       "                                    model_b_response  prompt_length  \\\n",
       "0  OpenCL and CUDA are both programming languages...             47   \n",
       "\n",
       "   response_a_length  response_b_length  length_difference longer_response  \\\n",
       "0                892               1905              -1013         model_b   \n",
       "\n",
       "   score_value_1  score_value_2  score_value_3  average_score  total_hardness  \n",
       "0              9              8              9           8.67              26  "
      ]
     },
     "execution_count": 12,
     "metadata": {},
     "output_type": "execute_result"
    }
   ],
   "source": [
    "# Add total (average) score for each battle\n",
    "merged_df[\"average_score\"] = (merged_df[\"score_value_1\"] + merged_df[\"score_value_2\"] + merged_df[\"score_value_3\"])/ 3\n",
    "\n",
    "# Compute total hardness of each prompt\n",
    "merged_df[\"total_hardness\"] = merged_df[\"score_value_1\"] + merged_df[\"score_value_2\"] + merged_df[\"score_value_3\"]\n",
    "\n",
    "merged_df.head(1)"
   ]
  },
  {
   "cell_type": "code",
   "execution_count": 13,
   "metadata": {
    "colab": {
     "base_uri": "https://localhost:8080/",
     "height": 205
    },
    "id": "MauQo_bu8GUv",
    "outputId": "f1542a59-b89e-4e6b-cf89-8c1b23e784bc"
   },
   "outputs": [
    {
     "data": {
      "text/plain": [
       "winner_name\n",
       "claude-instant-v1         7.26\n",
       "gpt-4                     7.25\n",
       "gpt-3.5-turbo             7.22\n",
       "vicuna-7b                 7.21\n",
       "claude-v1                 7.20\n",
       "palm-2                    7.14\n",
       "fastchat-t5-3b            7.12\n",
       "wizardlm-13b              7.10\n",
       "oasst-pythia-12b          7.07\n",
       "vicuna-13b                7.07\n",
       "koala-13b                 7.06\n",
       "RWKV-4-Raven-14B          7.05\n",
       "stablelm-tuned-alpha-7b   7.05\n",
       "mpt-7b-chat               7.00\n",
       "guanaco-33b               6.97\n",
       "gpt4all-13b-snoozy        6.93\n",
       "dolly-v2-12b              6.91\n",
       "alpaca-13b                6.84\n",
       "chatglm-6b                6.81\n",
       "llama-13b                 6.67\n",
       "Name: average_score, dtype: float64"
      ]
     },
     "execution_count": 13,
     "metadata": {},
     "output_type": "execute_result"
    }
   ],
   "source": [
    "# Average hardness score per model (in winning rows)\n",
    "average_hardness_per_model = merged_df.groupby(\"winner_name\")[\"average_score\"].mean().sort_values(ascending=False)\n",
    "average_hardness_per_model"
   ]
  },
  {
   "cell_type": "code",
   "execution_count": 14,
   "metadata": {},
   "outputs": [
    {
     "data": {
      "text/plain": [
       "(17045, 19)"
      ]
     },
     "execution_count": 14,
     "metadata": {},
     "output_type": "execute_result"
    }
   ],
   "source": [
    "merged_df.shape"
   ]
  },
  {
   "cell_type": "markdown",
   "metadata": {
    "id": "W36rhUzpzu63"
   },
   "source": [
    "# **3. Task A** \n",
    "# Given a prompt, can we predict which model’s response will win the user vote?*"
   ]
  },
  {
   "cell_type": "markdown",
   "metadata": {},
   "source": [
    "## 3a. Feature Engineering"
   ]
  },
  {
   "cell_type": "code",
   "execution_count": 15,
   "metadata": {},
   "outputs": [],
   "source": [
    "# Make a copy of the merged dataframe\n",
    "task_a_df = merged_df.copy()"
   ]
  },
  {
   "cell_type": "code",
   "execution_count": 16,
   "metadata": {
    "id": "k6_6Xo0yG0LA"
   },
   "outputs": [],
   "source": [
    "# One-hot encode the model names\n",
    "\n",
    "# Create an array with all the model names\n",
    "models_combined = pd.concat([task_a_df[\"model_a\"], task_a_df[\"model_b\"]]).unique()\n",
    "\n",
    "# Initialize the columns to zero\n",
    "for model in models_combined:\n",
    "    task_a_df[model] = 0\n",
    "\n",
    "# Use logical OR to combine the one-hot encoding for both model_a and model_b\n",
    "for model in models_combined:\n",
    "    task_a_df[model] = ((task_a_df[\"model_a\"] == model) | (task_a_df[\"model_b\"] == model)).astype(int)"
   ]
  },
  {
   "cell_type": "code",
   "execution_count": 17,
   "metadata": {
    "id": "M03ykkLMEDmo"
   },
   "outputs": [],
   "source": [
    "# Add a new feature for the win rate of model_a\n",
    "task_a_df['model_a_win_rate'] = task_a_df['model_a'].map(win_rates)\n",
    "\n",
    "# Add a new feature for the win rate of model_b\n",
    "task_a_df['model_b_win_rate'] = task_a_df['model_b'].map(win_rates)"
   ]
  },
  {
   "cell_type": "code",
   "execution_count": 18,
   "metadata": {},
   "outputs": [],
   "source": [
    "# Use texstat library for text statistics\n",
    "\n",
    "# Flesch Reading Ease\n",
    "task_a_df[\"model_a_complexity\"] = (task_a_df[\"model_a_response\"]).apply(textstat.flesch_reading_ease)\n",
    "task_a_df[\"model_b_complexity\"] = (task_a_df[\"model_b_response\"]).apply(textstat.flesch_reading_ease)\n",
    "task_a_df[\"prompt_complexity\"] = (task_a_df[\"prompt\"]).apply(textstat.flesch_reading_ease)\n",
    "\n",
    "# Readability consensus (grade level)\n",
    "task_a_df[\"model_a_grade\"] = task_a_df[\"model_a_response\"].apply(lambda x: textstat.text_standard(x, float_output=True))\n",
    "task_a_df[\"model_b_grade\"] = task_a_df[\"model_b_response\"].apply(lambda x: textstat.text_standard(x, float_output=True))\n",
    "task_a_df[\"prompt_grade\"] = task_a_df[\"prompt\"].apply(lambda x: textstat.text_standard(x, float_output=True))\n",
    "\n",
    "# Reading time\n",
    "task_a_df[\"model_a_time\"] = task_a_df[\"model_a_response\"].apply(lambda x: textstat.reading_time(x, ms_per_char=14.69))\n",
    "task_a_df[\"model_b_time\"] = task_a_df[\"model_b_response\"].apply(lambda x: textstat.reading_time(x, ms_per_char=14.69))\n",
    "task_a_df[\"prompt_time\"] = task_a_df[\"prompt\"].apply(lambda x: textstat.reading_time(x, ms_per_char=14.69))"
   ]
  },
  {
   "cell_type": "markdown",
   "metadata": {
    "id": "URHHcAFFczsY"
   },
   "source": [
    "## 3b. Modelling - Logistic Regression Model"
   ]
  },
  {
   "cell_type": "code",
   "execution_count": 19,
   "metadata": {
    "colab": {
     "base_uri": "https://localhost:8080/"
    },
    "id": "Q3vAH9zt36MN",
    "outputId": "f2f45ffe-f1de-49df-f42a-ff3dce61bc9c"
   },
   "outputs": [
    {
     "name": "stdout",
     "output_type": "stream",
     "text": [
      "Accuracy: 0.750073335288941\n",
      "              precision    recall  f1-score   support\n",
      "\n",
      "     model_a       0.73      0.77      0.75      1665\n",
      "     model_b       0.77      0.73      0.75      1744\n",
      "\n",
      "    accuracy                           0.75      3409\n",
      "   macro avg       0.75      0.75      0.75      3409\n",
      "weighted avg       0.75      0.75      0.75      3409\n",
      "\n"
     ]
    }
   ],
   "source": [
    "# Features for model\n",
    "features = [\"prompt_length\", \"prompt_complexity\", \"prompt_grade\", \"prompt_time\", \"model_a_win_rate\", \"model_b_win_rate\",\n",
    "            'chatglm-6b', 'koala-13b', 'vicuna-13b', 'stablelm-tuned-alpha-7b','oasst-pythia-12b', 'dolly-v2-12b', 'alpaca-13b', 'llama-13b', 'fastchat-t5-3b', 'gpt-3.5-turbo', \\\n",
    "            'gpt-4', 'claude-v1', 'RWKV-4-Raven-14B', 'mpt-7b-chat', 'palm-2', 'claude-instant-v1', 'vicuna-7b', 'wizardlm-13b', 'gpt4all-13b-snoozy', 'guanaco-33b']\n",
    "\n",
    "\n",
    "X = task_a_df[features]\n",
    "y = task_a_df[\"winner\"]\n",
    "\n",
    "le = LabelEncoder()\n",
    "y_encoded = le.fit_transform(y)\n",
    "\n",
    "X_train, X_test, y_train, y_test = train_test_split(X, y_encoded, test_size=0.20, random_state=42)\n",
    "\n",
    "# Create a logistic regression model\n",
    "model_task_a = LogisticRegression(max_iter=2000)\n",
    "\n",
    "# Train the model\n",
    "model_task_a.fit(X_train, y_train)\n",
    "\n",
    "# Predict the test set\n",
    "y_pred_encoded = model_task_a.predict(X_test)\n",
    "\n",
    "# Decode the predictions back to 'model_a' and 'model_b'\n",
    "y_pred = le.inverse_transform(y_pred_encoded)\n",
    "\n",
    "# Calculate the accuracy, precision, recall\n",
    "accuracy = accuracy_score(y_test, y_pred_encoded)\n",
    "print(f'Accuracy: {accuracy}')\n",
    "print(classification_report(y_test, y_pred_encoded, target_names=le.classes_))"
   ]
  },
  {
   "cell_type": "code",
   "execution_count": 20,
   "metadata": {
    "colab": {
     "base_uri": "https://localhost:8080/",
     "height": 650
    },
    "id": "ztHlziN3CUlj",
    "outputId": "930e0b9b-e34d-4268-e594-5e5ec7c478e1"
   },
   "outputs": [
    {
     "data": {
      "image/png": "[encoded data removed]",
      "text/plain": [
       "<Figure size 1000x700 with 2 Axes>"
      ]
     },
     "metadata": {},
     "output_type": "display_data"
    }
   ],
   "source": [
    "# Generating the confusion matrix\n",
    "conf_matrix = confusion_matrix(y_test, y_pred_encoded)\n",
    "\n",
    "plt.figure(figsize=(10, 7))\n",
    "sns.heatmap(conf_matrix, annot=True, fmt=\"d\", cmap=\"Blues\",\n",
    "            xticklabels=['Predicted Model A', 'Predicted Model B'],\n",
    "            yticklabels=['Actual Model A', 'Actual Model B'])\n",
    "plt.title('Confusion Matrix')\n",
    "plt.ylabel('True Label')\n",
    "plt.xlabel('Predicted Label')\n",
    "plt.show()"
   ]
  },
  {
   "cell_type": "code",
   "execution_count": 21,
   "metadata": {
    "colab": {
     "base_uri": "https://localhost:8080/"
    },
    "id": "H-H8pjmJ2B0N",
    "outputId": "20e1b52b-3f2e-443e-fe5d-923ae5775aec"
   },
   "outputs": [
    {
     "name": "stdout",
     "output_type": "stream",
     "text": [
      "Accuracies for each fold: [0.75007334 0.75359343 0.74655324 0.73364623 0.74185978]\n",
      "Mean CV Accuracy: 0.7451452038721034\n"
     ]
    }
   ],
   "source": [
    "# K-Fold Cross-Validation\n",
    "\n",
    "X = task_a_df[features]\n",
    "y = task_a_df[\"winner\"]\n",
    "\n",
    "kf = KFold(n_splits=5, shuffle=True, random_state=42)\n",
    "\n",
    "# Perform k-fold cross-validation\n",
    "cv_scores = cross_val_score(model_task_a, X, y, cv=kf, scoring=\"accuracy\")\n",
    "\n",
    "# Print the accuracy for each fold\n",
    "print(f'Accuracies for each fold: {cv_scores}')\n",
    "\n",
    "# Print the mean of the cross-validation accuracy\n",
    "print(f'Mean CV Accuracy: {cv_scores.mean()}')"
   ]
  },
  {
   "cell_type": "markdown",
   "metadata": {
    "id": "jBn1QX1WCyxq"
   },
   "source": [
    "# **4. Task B**\n",
    "# Can we guess the hardness score of a given prompt?*"
   ]
  },
  {
   "cell_type": "code",
   "execution_count": null,
   "metadata": {
    "colab": {
     "base_uri": "https://localhost:8080/"
    },
    "id": "0YGVqLsxqRSs",
    "outputId": "9b5a839b-a057-4b22-c4c6-3d95a0642b71"
   },
   "outputs": [],
   "source": [
    "# IMPORTS\n",
    "\n",
    "import pandas as pd\n",
    "from sklearn.model_selection import train_test_split\n",
    "from sklearn.feature_extraction.text import TfidfVectorizer\n",
    "from sklearn.linear_model import LinearRegression\n",
    "from sklearn.metrics import mean_squared_error\n",
    "from sklearn.model_selection import KFold\n",
    "\n",
    "# Text Libraries\n",
    "from textstat import flesch_kincaid_grade, gunning_fog\n",
    "import textstat\n",
    "import nltk\n",
    "from nltk.tokenize import sent_tokenize, word_tokenize\n",
    "from nltk.corpus import stopwords\n",
    "\n",
    "nltk.download('punkt')"
   ]
  },
  {
   "cell_type": "code",
   "execution_count": null,
   "metadata": {
    "colab": {
     "base_uri": "https://localhost:8080/"
    },
    "id": "hXv7w6lAXzC7",
    "outputId": "7514ae6e-088b-465c-f5c9-3078925ca76c"
   },
   "outputs": [],
   "source": [
    "embeddings.shape[1]"
   ]
  },
  {
   "cell_type": "code",
   "execution_count": null,
   "metadata": {
    "colab": {
     "base_uri": "https://localhost:8080/",
     "height": 423
    },
    "id": "qH2-3gqVYlJ7",
    "outputId": "2b75e2d5-b82c-4900-8870-d96829e826ae"
   },
   "outputs": [],
   "source": [
    "embeddings_df = pd.DataFrame(embeddings, columns=[f'e_{i}' for i in range(256)])\n",
    "embeddings_df"
   ]
  },
  {
   "cell_type": "code",
   "execution_count": null,
   "metadata": {
    "colab": {
     "base_uri": "https://localhost:8080/"
    },
    "id": "NamvLlhSXGh0",
    "outputId": "4e8f887e-a3d7-49b8-d693-193389d220a1"
   },
   "outputs": [],
   "source": [
    "# Set up task B df\n",
    "\n",
    "task_b_df = pd.read_json(url_scores, lines=True)[['question_id', 'prompt', 'score_value_1', 'score_value_2', 'score_value_3']]\n",
    "# task_b_df = task_b_df.dropna(subset=['score_value_1', 'score_value_2', 'score_value_3'])\n",
    "# task_b_df['score_value_1'].astype(int)\n",
    "# task_b_df['average_score'] = task_b_df[['score_value_1', 'score_value_2','score_value_3']].mean(axis=1)\n",
    "\n",
    "# Add embeddings\n",
    "task_b_df.reset_index(drop=True, inplace=True)\n",
    "embeddings_df.reset_index(drop=True, inplace=True)\n",
    "\n",
    "task_b_df = pd.concat([task_b_df, embeddings_df], axis=1)\n",
    "\n",
    "# Remove null values from scores values\n",
    "# topic_and_hardness = topic_and_hardness.dropna(subset=['score_value_1', 'score_value_2', 'score_value_3'])\n",
    "# print(topic_and_hardness[['score_value_1', 'score_value_2', 'score_value_3']].isna().sum())\n",
    "task_b_df = task_b_df.dropna(subset=['score_value_1', 'score_value_2', 'score_value_3'])\n",
    "print(task_b_df[['score_value_1', 'score_value_2', 'score_value_3']].isna().sum())\n",
    "\n",
    "# Change all score values to be numeric\n",
    "task_b_df.loc[:,'score_value_1'] = pd.to_numeric(task_b_df['score_value_1'], errors='coerce')\n",
    "task_b_df.loc[:,'score_value_2'] = pd.to_numeric(task_b_df['score_value_2'], errors='coerce')\n",
    "task_b_df.loc[:,'score_value_3'] = pd.to_numeric(task_b_df['score_value_3'], errors='coerce')\n",
    "\n",
    "# Drop any resulting null values\n",
    "task_b_df = task_b_df.dropna(subset=['score_value_1', 'score_value_2', 'score_value_3'])\n",
    "\n",
    "# Change all score values to be integers\n",
    "task_b_df['score_value_1'] = task_b_df['score_value_1'].astype(np.int64)\n",
    "task_b_df['score_value_2'] = task_b_df['score_value_2'].astype(np.int64)\n",
    "task_b_df['score_value_3'] = task_b_df['score_value_3'].astype(np.int64)\n",
    "\n",
    "# Verify all score values are integers\n",
    "task_b_df.dtypes\n"
   ]
  },
  {
   "cell_type": "code",
   "execution_count": null,
   "metadata": {
    "colab": {
     "base_uri": "https://localhost:8080/"
    },
    "id": "-rmOvRrAz-i4",
    "outputId": "3e4e9636-5367-4399-c31d-9aa179a07162"
   },
   "outputs": [],
   "source": [
    "task_b_df.shape"
   ]
  },
  {
   "cell_type": "code",
   "execution_count": null,
   "metadata": {
    "colab": {
     "base_uri": "https://localhost:8080/",
     "height": 234
    },
    "id": "WNw9MCZJ3clx",
    "outputId": "5dc04595-1a8f-47b7-aaa2-764636571793"
   },
   "outputs": [],
   "source": [
    "# Calculate and add average score of each prompt to dataframe\n",
    "task_b_df['average_score'] = task_b_df[['score_value_1', 'score_value_2', 'score_value_3']].mean(axis=1)\n",
    "task_b_df.head(1)"
   ]
  },
  {
   "cell_type": "code",
   "execution_count": null,
   "metadata": {
    "colab": {
     "base_uri": "https://localhost:8080/",
     "height": 457
    },
    "id": "X3qFU8-s6e75",
    "outputId": "e0453584-bf8e-4b1c-cc14-6405af7f7611"
   },
   "outputs": [],
   "source": [
    "# Frequency of Hardness Scores\n",
    "\n",
    "plt.hist(task_b_df['average_score'])\n",
    "plt.title('Frequency of Hardness Score (Auto-Binned)')\n",
    "plt.show()"
   ]
  },
  {
   "cell_type": "code",
   "execution_count": null,
   "metadata": {
    "colab": {
     "base_uri": "https://localhost:8080/",
     "height": 457
    },
    "id": "PhsNM8wS6x-7",
    "outputId": "4bf14b99-a69e-4d87-a2bf-deeb53cdd958"
   },
   "outputs": [],
   "source": [
    "# Frequency of Hardness Scores Rounded Before Binning\n",
    "\n",
    "plt.hist(task_b_df['average_score'].round().astype(int))\n",
    "plt.title('Frequency of Hardness Score (Rounded Before Binning)')\n",
    "plt.show()"
   ]
  },
  {
   "cell_type": "code",
   "execution_count": null,
   "metadata": {
    "colab": {
     "base_uri": "https://localhost:8080/",
     "height": 234
    },
    "id": "J-bhW2GphjbG",
    "outputId": "70723ba0-3558-4975-d38a-8b694a5c5534"
   },
   "outputs": [],
   "source": [
    "task_b_df.head(1)"
   ]
  },
  {
   "cell_type": "code",
   "execution_count": null,
   "metadata": {
    "id": "6wiug86AegOD"
   },
   "outputs": [],
   "source": []
  },
  {
   "cell_type": "markdown",
   "metadata": {
    "id": "ICyUjk6EeguM"
   },
   "source": [
    "# 4a. Linear Regression Models (Feature Set 1)"
   ]
  },
  {
   "cell_type": "markdown",
   "metadata": {},
   "source": [
    "*Features include embeddings only*"
   ]
  },
  {
   "cell_type": "markdown",
   "metadata": {
    "id": "c1dCDNa2Zapp"
   },
   "source": [
    "**MODEL 1**"
   ]
  },
  {
   "cell_type": "code",
   "execution_count": null,
   "metadata": {
    "colab": {
     "base_uri": "https://localhost:8080/"
    },
    "id": "FfrYyedAegSn",
    "outputId": "9a68c58b-5c3d-457b-82c7-5c42bace149f"
   },
   "outputs": [],
   "source": [
    "# Feature Set 1: Just embeddings\n",
    "\n",
    "# embeddings_matrix = task_b_df.drop(columns = ['question_id', 'cluster', 'score_value_1', 'score_value_2', 'score_value_3', 'average_score', 'total_hardness', 'prompt', 'cluster_score'])\n",
    "embeddings_matrix = task_b_df.drop(columns = ['question_id', 'score_value_1', 'score_value_2', 'score_value_3', 'average_score', 'prompt'])\n",
    "embeddings_matrix = embeddings_matrix.reset_index(drop=True)\n",
    "embeddings_matrix.shape"
   ]
  },
  {
   "cell_type": "code",
   "execution_count": null,
   "metadata": {
    "colab": {
     "base_uri": "https://localhost:8080/"
    },
    "id": "K0lECWAibded",
    "outputId": "47a40f6f-9260-4011-84ae-a65eb3e057c1"
   },
   "outputs": [],
   "source": [
    "# Feature Set 1 (Just embeddings)\n",
    "\n",
    "# Split data into training and testing sets\n",
    "X_train, X_test, y_train, y_test = train_test_split(embeddings_matrix, task_b_df['average_score'], test_size=0.2, random_state=42)\n",
    "\n",
    "# Model training\n",
    "model1a = LinearRegression()\n",
    "model1a.fit(X_train, y_train)\n",
    "\n",
    "# Predict and evaluate\n",
    "predictions1a = model1a.predict(X_test).round().astype(int)\n",
    "mse1a = mean_squared_error(y_test, predictions1a)\n",
    "print(\"Mean Squared Error:\", mse1a)"
   ]
  },
  {
   "cell_type": "code",
   "execution_count": null,
   "metadata": {
    "colab": {
     "base_uri": "https://localhost:8080/"
    },
    "id": "va_XsK9Q7wFx",
    "outputId": "4437f6ce-16da-402a-90cc-20650100fda6"
   },
   "outputs": [],
   "source": [
    "# 5 K-Fold Cross-Validation\n",
    "\n",
    "X = embeddings_matrix\n",
    "y = task_b_df['average_score']\n",
    "\n",
    "kf = KFold(n_splits=5, shuffle=True, random_state=42)\n",
    "\n",
    "# Perform cross-validation\n",
    "scores1a = cross_val_score(model1a, X, y, cv=kf, scoring='neg_mean_squared_error')#.round().astype(int)\n",
    "\n",
    "# Since the scores are negative MSE, we might want to convert them to positive MSE\n",
    "mse_scores1a = -scores1a\n",
    "\n",
    "print(\"MSE scores for each fold:\", mse_scores1a)\n",
    "print(\"Average MSE:\", mse_scores1a.mean())"
   ]
  },
  {
   "cell_type": "code",
   "execution_count": null,
   "metadata": {
    "id": "ZZJ4APTtHt63"
   },
   "outputs": [],
   "source": []
  },
  {
   "cell_type": "markdown",
   "metadata": {
    "id": "EUgAdNLdL_69"
   },
   "source": [
    "# 4b. Linear Regression Models (Feature Set 2)\n",
    "*Features include prompt quantifications, such as character count, word count, sentence count, words per sentence, unique words, and unique words to total words ratio*"
   ]
  },
  {
   "cell_type": "markdown",
   "metadata": {
    "id": "yzWAHVQSHbgn"
   },
   "source": [
    "**MODEL 2A**"
   ]
  },
  {
   "cell_type": "code",
   "execution_count": null,
   "metadata": {
    "colab": {
     "base_uri": "https://localhost:8080/"
    },
    "id": "o0lvAsnvzBQE",
    "outputId": "8af7d529-899e-4981-8ceb-fe6c7914d6ec"
   },
   "outputs": [],
   "source": [
    "# Feature Set 2a **\n",
    "\n",
    "# Feature extraction\n",
    "def extract_features2a(text):\n",
    "    char_count = len(text)\n",
    "    word_count = len(nltk.word_tokenize(text))\n",
    "    char_word_ratio = char_count/word_count\n",
    "    sent_count = len(nltk.sent_tokenize(text))\n",
    "    words_per_sent = word_count / sent_count if sent_count > 0 else 0\n",
    "    uniq_words = len(set(nltk.word_tokenize(text)))\n",
    "    uniq_word_ratio = uniq_words / word_count if word_count > 0 else 0\n",
    "    return [char_count, word_count, char_word_ratio, sent_count, words_per_sent, uniq_words]\n",
    "\n",
    "# Applying feature extraction\n",
    "features2a = merged_df['prompt'].apply(extract_features2a)\n",
    "features2a_df = pd.DataFrame(features2a.tolist(), columns=['char_count', 'word_count', 'char_word_ratio', 'sent_count', 'words_per_sent', 'uniq_words'])\n",
    "\n",
    "# Split data into training and testing sets\n",
    "X_train, X_test, y_train, y_test = train_test_split(features2a_df, merged_df['average_score'], test_size=0.2, random_state=42)\n",
    "\n",
    "# Model training\n",
    "model2a = LinearRegression()\n",
    "model2a.fit(X_train, y_train)\n",
    "\n",
    "# Predict and evaluate\n",
    "predictions2a = model2a.predict(X_test).round().astype(int)\n",
    "mse2a = mean_squared_error(y_test, predictions2a)\n",
    "print(\"Mean Squared Error:\", mse2a)\n"
   ]
  },
  {
   "cell_type": "code",
   "execution_count": null,
   "metadata": {
    "id": "M-oTGVvi6C0h"
   },
   "outputs": [],
   "source": []
  },
  {
   "cell_type": "markdown",
   "metadata": {
    "id": "ICkNQ_EuF-cH"
   },
   "source": [
    "**MODEL 2B**"
   ]
  },
  {
   "cell_type": "code",
   "execution_count": null,
   "metadata": {
    "colab": {
     "base_uri": "https://localhost:8080/"
    },
    "id": "NJ_BQNg2zOoW",
    "outputId": "ed212a2a-0987-4439-c76e-b228bc222279"
   },
   "outputs": [],
   "source": [
    "# Feature extraction\n",
    "def extract_features2b(text):\n",
    "    char_count = len(text)\n",
    "    word_count = len(nltk.word_tokenize(text))\n",
    "    char_word_ratio = char_count/word_count\n",
    "    sent_count = len(nltk.sent_tokenize(text))\n",
    "    words_per_sent = word_count / sent_count if sent_count > 0 else 0\n",
    "    uniq_words = len(set(nltk.word_tokenize(text)))\n",
    "    uniq_word_ratio = uniq_words / word_count if word_count > 0 else 0\n",
    "    fk_grade = textstat.flesch_kincaid_grade(text) # best\n",
    "    gf_index = textstat.gunning_fog(text)\n",
    "    return [char_count, word_count, char_word_ratio, sent_count, words_per_sent, uniq_words, uniq_word_ratio, fk_grade, gf_index]\n",
    "\n",
    "# Applying feature extraction\n",
    "features2b = merged_df['prompt'].apply(extract_features2b)\n",
    "features2b_df = pd.DataFrame(features2b.tolist(), columns=['char_count', 'word_count', 'char_word_ratio', 'sent_count', 'words_per_sent', 'uniq_words', 'uniq_word_ratio', 'fk_grade', 'gf_index'])\n",
    "\n",
    "# Split data into training and testing sets\n",
    "X_train, X_test, y_train, y_test = train_test_split(features2b_df, merged_df['average_score'], test_size=0.2, random_state=42)\n",
    "\n",
    "# Model training\n",
    "model2b = LinearRegression()\n",
    "model2b.fit(X_train, y_train)\n",
    "\n",
    "# Predict and evaluate\n",
    "predictions2b = model2b.predict(X_test).round().astype(int)\n",
    "mse2b = mean_squared_error(y_test, predictions2b)\n",
    "print(\"Mean Squared Error:\", mse2b)\n"
   ]
  },
  {
   "cell_type": "code",
   "execution_count": null,
   "metadata": {
    "id": "P7UrUU096Dmc"
   },
   "outputs": [],
   "source": []
  },
  {
   "cell_type": "markdown",
   "metadata": {
    "id": "TGjFjRM0wqwm"
   },
   "source": [
    "**MODEL 2C**"
   ]
  },
  {
   "cell_type": "markdown",
   "metadata": {
    "id": "TvfR6F4gEhhO"
   },
   "source": [
    "Replace fk_grade and gf_index grades with aggregated grade\n",
    "\n",
    "* char_count = textstat.char_count(text)\n",
    "* word_count = textstat.lexicon_count(text, removepunct=True)\n",
    "* sent_count = textstat.sentence_count(text)\n",
    "* words_per_sent = word_count / sent_count if sent_count > 0 else 0\n",
    "* polysyll_count = textstat.polysyllabcount(text)\n",
    "* uniq_words = len(set(word_tokenize(text)))\n",
    "* uniq_word_ratio = uniq_words / word_count if word_count > 0 else 0\n",
    "* grade"
   ]
  },
  {
   "cell_type": "code",
   "execution_count": null,
   "metadata": {
    "colab": {
     "base_uri": "https://localhost:8080/"
    },
    "id": "y9s3hvxSzfGt",
    "outputId": "0c3b89c2-76cf-48e3-8709-10edad8bfb1d"
   },
   "outputs": [],
   "source": [
    "# Feature extraction\n",
    "def extract_features2c(text):\n",
    "    char_count = textstat.char_count(text)\n",
    "    word_count = textstat.lexicon_count(text, removepunct=True)\n",
    "    sent_count = textstat.sentence_count(text)\n",
    "    words_per_sent = word_count / sent_count if sent_count > 0 else 0\n",
    "    polysyll_count = textstat.polysyllabcount(text)\n",
    "    uniq_words = len(set(word_tokenize(text)))\n",
    "    uniq_word_ratio = uniq_words / word_count if word_count > 0 else 0\n",
    "    grade = textstat.text_standard(text, float_output=True)\n",
    "    return [char_count, word_count, sent_count, words_per_sent, polysyll_count, uniq_words, uniq_word_ratio, grade]#, readability, grade]\n",
    "\n",
    "# Applying feature extraction\n",
    "features2c = merged_df['prompt'].apply(extract_features2c)\n",
    "features2c_df = pd.DataFrame(features2c.tolist(),\n",
    "                            columns=['char_count', 'word_count', 'sent_count', 'words_per_sent',\n",
    "                                     'polysyll_count', 'uniq_words', 'uniq_word_ratio',\n",
    "                                     'complexity'])#, 'readability', 'grade'])\n",
    "\n",
    "# Split data into training and testing sets\n",
    "X_train, X_test, y_train, y_test = train_test_split(features2c_df, merged_df['average_score'], test_size=0.2, random_state=42)\n",
    "\n",
    "# Model training\n",
    "model2c = LinearRegression()\n",
    "model2c.fit(X_train, y_train)\n",
    "\n",
    "# Predict and evaluate\n",
    "predictions2c = model2c.predict(X_test).round().astype(int)\n",
    "mse2c = mean_squared_error(y_test, predictions2c)\n",
    "print(\"Mean Squared Error:\", mse2c)\n"
   ]
  },
  {
   "cell_type": "code",
   "execution_count": null,
   "metadata": {
    "id": "u9TLV0nW6FgE"
   },
   "outputs": [],
   "source": []
  },
  {
   "cell_type": "markdown",
   "metadata": {
    "id": "AD8EFFi9r1IS"
   },
   "source": [
    "**MODEL 2D**"
   ]
  },
  {
   "cell_type": "markdown",
   "metadata": {
    "id": "XOJF9jYhEkVc"
   },
   "source": [
    "Swap aggregated grade score with just Flesh-Kincaid and Gunning Fog grade-scoring indexes.\n",
    "\n",
    "* char_count\n",
    "* word_count\n",
    "* sent_count\n",
    "* words_per_sent\n",
    "* polysyll_count\n",
    "* uniq_words\n",
    "* uniq_word_ratio\n",
    "* fk_grade\n",
    "* gf_index"
   ]
  },
  {
   "cell_type": "code",
   "execution_count": null,
   "metadata": {
    "colab": {
     "base_uri": "https://localhost:8080/"
    },
    "id": "q5qC69lcz6-X",
    "outputId": "ac99b8ec-d431-4979-ec23-087987d4ab45"
   },
   "outputs": [],
   "source": [
    "# Feature extraction\n",
    "def extract_features2d(text):\n",
    "    char_count = textstat.char_count(text)\n",
    "    word_count = textstat.lexicon_count(text, removepunct=True)\n",
    "    sent_count = textstat.sentence_count(text)\n",
    "    words_per_sent = word_count / sent_count if sent_count > 0 else 0\n",
    "    polysyll_count = textstat.polysyllabcount(text)\n",
    "    uniq_words = len(set(nltk.word_tokenize(text)))\n",
    "    uniq_word_ratio = uniq_words / word_count if word_count > 0 else 0\n",
    "    fk_grade = textstat.flesch_kincaid_grade(text)\n",
    "    gf_index = textstat.gunning_fog(text)\n",
    "    return [char_count, word_count, sent_count, words_per_sent, polysyll_count, uniq_words, uniq_word_ratio, fk_grade, gf_index]\n",
    "\n",
    "# Applying feature extraction\n",
    "features2d = merged_df['prompt'].apply(extract_features2d)\n",
    "features2d_df = pd.DataFrame(features2d.tolist(), columns=['char_count', 'word_count', 'sent_count', 'words_per_sent', 'polysyll_count', 'uniq_words', 'uniq_word_ratio', 'fk_grade', 'gf_index'])\n",
    "\n",
    "# Split data into training and testing sets\n",
    "X_train, X_test, y_train, y_test = train_test_split(features2d_df, merged_df['average_score'], test_size=0.2, random_state=42)\n",
    "\n",
    "# Model training\n",
    "model2d = LinearRegression()\n",
    "model2d.fit(X_train, y_train)\n",
    "\n",
    "# Predict and evaluate\n",
    "predictions2d = model2d.predict(X_test).round().astype(int)\n",
    "mse2d = mean_squared_error(y_test, predictions2d)\n",
    "print(\"Mean Squared Error:\", mse2d)"
   ]
  },
  {
   "cell_type": "code",
   "execution_count": null,
   "metadata": {
    "colab": {
     "base_uri": "https://localhost:8080/"
    },
    "id": "w_yD4oZa0H31",
    "outputId": "b8312352-233c-4a88-a7e7-a59658be5d20"
   },
   "outputs": [],
   "source": [
    "# 5 K-Fold Cross-Validation\n",
    "\n",
    "X = features2d_df\n",
    "y = merged_df['average_score']\n",
    "\n",
    "kf = KFold(n_splits=5, shuffle=True, random_state=42)\n",
    "\n",
    "# Perform cross-validation\n",
    "scores2d = cross_val_score(model2d, X, y, cv=kf, scoring='neg_mean_squared_error')#.round().astype(int)\n",
    "\n",
    "# Since the scores are negative MSE, we might want to convert them to positive MSE\n",
    "mse_scores2d = -scores2d\n",
    "\n",
    "print(\"MSE scores for each fold:\", mse_scores2d)\n",
    "print(\"Average MSE:\", mse_scores2d.mean())"
   ]
  },
  {
   "cell_type": "code",
   "execution_count": null,
   "metadata": {
    "id": "IzTmyb6z6HJ9"
   },
   "outputs": [],
   "source": []
  },
  {
   "cell_type": "markdown",
   "metadata": {
    "id": "An8QOWZ2KJL0"
   },
   "source": [
    "**MODEL 2E**"
   ]
  },
  {
   "cell_type": "markdown",
   "metadata": {
    "id": "ClD5wOJuEonS"
   },
   "source": [
    "Added in read time and complexity (ease score).\n",
    "\n",
    "* char_count\n",
    "* word_count\n",
    "* sent_count\n",
    "* words_per_sent\n",
    "* polysyll_count\n",
    "* uniq_words\n",
    "* uniq_word_ratio\n",
    "* fk_grade\n",
    "* gf_index\n",
    "* read_time\n",
    "* complexity"
   ]
  },
  {
   "cell_type": "code",
   "execution_count": null,
   "metadata": {
    "colab": {
     "base_uri": "https://localhost:8080/"
    },
    "id": "Rwoxv1zC0jBJ",
    "outputId": "385e530e-7bbb-42d1-db8c-e6f8f9e1d620"
   },
   "outputs": [],
   "source": [
    "# Feature extraction\n",
    "def extract_features2e(text):\n",
    "    char_count = textstat.char_count(text)\n",
    "    word_count = textstat.lexicon_count(text, removepunct=True)\n",
    "    sent_count = textstat.sentence_count(text)\n",
    "    words_per_sent = word_count / sent_count if sent_count > 0 else 0\n",
    "    polysyll_count = textstat.polysyllabcount(text)\n",
    "    uniq_words = len(set(nltk.word_tokenize(text)))\n",
    "    uniq_word_ratio = uniq_words / word_count if word_count > 0 else 0\n",
    "    fk_grade = textstat.flesch_kincaid_grade(text)\n",
    "    gf_index = textstat.gunning_fog(text)\n",
    "    read_time = textstat.reading_time(text, ms_per_char=14.69)\n",
    "    complexity = textstat.flesch_reading_ease(text)\n",
    "    return [char_count, word_count, sent_count, words_per_sent, polysyll_count, uniq_words, uniq_word_ratio, fk_grade, gf_index, read_time, complexity]\n",
    "\n",
    "# Applying feature extraction\n",
    "features2e = merged_df['prompt'].apply(extract_features2e)\n",
    "features2e_df = pd.DataFrame(features2e.tolist(), columns=['char_count', 'word_count', 'sent_count', 'words_per_sent',\n",
    "                                                         'polysyll_count', 'uniq_words', 'uniq_word_ratio',\n",
    "                                                         'fk_grade', 'gf_index', 'readability', 'complexity'])\n",
    "\n",
    "# Split data into training and testing sets\n",
    "X_train, X_test, y_train, y_test = train_test_split(features2e_df, merged_df['average_score'], test_size=0.2, random_state=42)\n",
    "\n",
    "# Model training\n",
    "model2e = LinearRegression()\n",
    "model2e.fit(X_train, y_train)\n",
    "\n",
    "predictions2e = model2e.predict(X_test).round().astype(int)\n",
    "mse2e = mean_squared_error(y_test, predictions2e)\n",
    "print(\"Mean Squared Error:\", mse2e)"
   ]
  },
  {
   "cell_type": "code",
   "execution_count": null,
   "metadata": {
    "colab": {
     "base_uri": "https://localhost:8080/"
    },
    "id": "DyNrrwqkNvH-",
    "outputId": "6a68f890-6ac9-468e-a7db-bf499db681d6"
   },
   "outputs": [],
   "source": [
    "# 5 K-Fold Cross-Validation\n",
    "\n",
    "X = features2e_df\n",
    "y = merged_df['average_score']\n",
    "\n",
    "kf = KFold(n_splits=5, shuffle=True, random_state=42)\n",
    "\n",
    "# Perform cross-validation\n",
    "scores2e = cross_val_score(model2e, X, y, cv=kf, scoring='neg_mean_squared_error')#.round().astype(int)\n",
    "\n",
    "# Since the scores are negative MSE, we might want to convert them to positive MSE\n",
    "mse_scores2e = -scores2e\n",
    "\n",
    "print(\"MSE scores for each fold:\", mse_scores2e)\n",
    "print(\"Average MSE:\", mse_scores2e.mean())"
   ]
  },
  {
   "cell_type": "code",
   "execution_count": null,
   "metadata": {
    "id": "x5dWTKCFkzkB"
   },
   "outputs": [],
   "source": []
  },
  {
   "cell_type": "markdown",
   "metadata": {
    "id": "R9ur1uSekmw2"
   },
   "source": [
    "## 4c. Linear Regression Models (Feature Set 3)\n",
    "*Features include combinations of prompt quantifications and embeddings*"
   ]
  },
  {
   "cell_type": "markdown",
   "metadata": {
    "id": "q9jvznrU6MUa"
   },
   "source": [
    "**MODEL 3A**"
   ]
  },
  {
   "cell_type": "code",
   "execution_count": null,
   "metadata": {
    "colab": {
     "base_uri": "https://localhost:8080/"
    },
    "id": "rcAXRwlAw9Zh",
    "outputId": "d50f9a70-da8d-4ccf-d58f-96ed4fff4721"
   },
   "outputs": [],
   "source": [
    "# Feature extraction\n",
    "def extract_features3a(text):\n",
    "    char_count = len(text)\n",
    "    word_count = len(nltk.word_tokenize(text))\n",
    "    char_word_ratio = char_count/word_count\n",
    "    sent_count = len(nltk.sent_tokenize(text))\n",
    "    words_per_sent = word_count / sent_count if sent_count > 0 else 0\n",
    "    uniq_words = len(set(nltk.word_tokenize(text)))\n",
    "    uniq_word_ratio = uniq_words / word_count if word_count > 0 else 0\n",
    "    return [char_count, word_count, char_word_ratio, sent_count, words_per_sent, uniq_words]\n",
    "\n",
    "# Applying feature extraction\n",
    "features3a = task_b_df['prompt'].apply(extract_features3a)\n",
    "features3a_df = pd.DataFrame(features3a.tolist(), columns=['char_count', 'word_count', 'char_word_ratio', 'sent_count', 'words_per_sent', 'uniq_words'])\n",
    "\n",
    "# Reset the indices of both DataFrames if the indices do not matter\n",
    "features3a_df = features3a_df.reset_index(drop=True)\n",
    "\n",
    "# Add embeddings to features\n",
    "features3a_df = pd.concat([features3a_df, embeddings_matrix], axis=1)\n",
    "\n",
    "# Split data into training and testing sets\n",
    "X_train, X_test, y_train, y_test = train_test_split(features3a_df, task_b_df['average_score'], test_size=0.2, random_state=42)\n",
    "\n",
    "\n",
    "# Model training\n",
    "model3a = LinearRegression()\n",
    "model3a.fit(X_train, y_train)\n",
    "\n",
    "# Predict and evaluate\n",
    "predictions3a = model3a.predict(X_test).round().astype(int)\n",
    "mse3a = mean_squared_error(y_test, predictions3a)\n",
    "print(\"Mean Squared Error:\", mse3a)\n"
   ]
  },
  {
   "cell_type": "code",
   "execution_count": null,
   "metadata": {
    "colab": {
     "base_uri": "https://localhost:8080/"
    },
    "id": "DqASXt5ucrsO",
    "outputId": "9f05448f-30a3-48e5-dc26-fa114f1a9186"
   },
   "outputs": [],
   "source": [
    "# NEW FEATURE SET 3a (prompt-text + embeddings)\n",
    "\n",
    "# 5 K-Fold Cross-Validation\n",
    "\n",
    "X = features3a_df\n",
    "y = task_b_df['average_score']\n",
    "\n",
    "kf = KFold(n_splits=5, shuffle=True, random_state=42)\n",
    "\n",
    "# Perform cross-validation\n",
    "scores3a = cross_val_score(model3a, X, y, cv=kf, scoring='neg_mean_squared_error')#.round().astype(int)\n",
    "\n",
    "# Since the scores are negative MSE, we might want to convert them to positive MSE\n",
    "mse3a_scores = -scores3a\n",
    "\n",
    "print(\"MSE scores for each fold:\", mse3a_scores)\n",
    "print(\"Average MSE:\", mse3a_scores.mean())"
   ]
  },
  {
   "cell_type": "code",
   "execution_count": null,
   "metadata": {
    "id": "LXJgYrKM6TBb"
   },
   "outputs": [],
   "source": []
  },
  {
   "cell_type": "markdown",
   "metadata": {
    "id": "Esb1PlYI6TqN"
   },
   "source": [
    "**MODEL 3B**"
   ]
  },
  {
   "cell_type": "code",
   "execution_count": null,
   "metadata": {
    "colab": {
     "base_uri": "https://localhost:8080/"
    },
    "id": "HeiBgNU1hnIG",
    "outputId": "36fb571d-b7cc-469d-9b37-5c5fe5c45a2e"
   },
   "outputs": [],
   "source": [
    "# Feature extraction\n",
    "def extract_features3b(text):\n",
    "    char_count = textstat.char_count(text)\n",
    "    word_count = textstat.lexicon_count(text, removepunct=True)\n",
    "    sent_count = textstat.sentence_count(text) # not used in actual feature set\n",
    "    words_per_sent = word_count / sent_count if sent_count > 0 else 0\n",
    "    polysyll_count = textstat.polysyllabcount(text)\n",
    "    uniq_words = len(set(nltk.word_tokenize(text)))\n",
    "    uniq_word_ratio = uniq_words / word_count if word_count > 0 else 0\n",
    "    fk_grade = textstat.flesch_kincaid_grade(text)\n",
    "    gf_index = textstat.gunning_fog(text)\n",
    "    return [char_count, word_count, sent_count, words_per_sent, polysyll_count, uniq_words, uniq_word_ratio, fk_grade, gf_index]\n",
    "\n",
    "# Applying feature extraction\n",
    "features3b = task_b_df['prompt'].apply(extract_features3b)\n",
    "features3b_df = pd.DataFrame(features3b.tolist(), columns=['char_count', 'word_count', 'sent_count', 'words_per_sent', 'polysyll_count', 'uniq_words', 'uniq_word_ratio', 'fk_grade', 'gf_index'])\n",
    "\n",
    "# Reset the indices of both DataFrames if the indices do not matter\n",
    "features3b_df = features3b_df.reset_index(drop=True)\n",
    "# Add embeddings\n",
    "features3b_df = pd.concat([features3b_df, embeddings_matrix], axis=1)\n",
    "\n",
    "# Split data into training and testing sets\n",
    "X_train, X_test, y_train, y_test = train_test_split(features3b_df, task_b_df['average_score'], test_size=0.2, random_state=42)\n",
    "\n",
    "# Model training\n",
    "model3b = LinearRegression()\n",
    "model3b.fit(X_train, y_train)\n",
    "\n",
    "# Predict and evaluate\n",
    "predictions3b = model3b.predict(X_test).round().astype(int)\n",
    "mse3b = mean_squared_error(y_test, predictions3b)\n",
    "print(\"Mean Squared Error:\", mse3b)"
   ]
  },
  {
   "cell_type": "code",
   "execution_count": null,
   "metadata": {
    "colab": {
     "base_uri": "https://localhost:8080/"
    },
    "id": "Yuopk5tKhgZP",
    "outputId": "23d277bd-da79-4aab-f9b5-be63cb3fb471"
   },
   "outputs": [],
   "source": [
    "# Feature Set 3b (prompt-text + complexity + embeddings)\n",
    "\n",
    "# 5 K-Fold Cross-Validation\n",
    "\n",
    "X = features3b_df\n",
    "y = task_b_df['average_score']\n",
    "\n",
    "kf = KFold(n_splits=5, shuffle=True, random_state=42)\n",
    "\n",
    "# Perform cross-validation\n",
    "scores3b = cross_val_score(model3b, X, y, cv=kf, scoring='neg_mean_squared_error')#.round().astype(int)\n",
    "\n",
    "# Since the scores are negative MSE, we might want to convert them to positive MSE\n",
    "mse3b_scores = -scores3b\n",
    "\n",
    "print(\"MSE scores for each fold:\", mse3b_scores)\n",
    "print(\"Average MSE:\", mse3b_scores.mean())"
   ]
  },
  {
   "cell_type": "code",
   "execution_count": null,
   "metadata": {
    "id": "3qUwjUIP6YCp"
   },
   "outputs": [],
   "source": []
  },
  {
   "cell_type": "markdown",
   "metadata": {
    "id": "e_M_DtWr6YRk"
   },
   "source": [
    "**MODEL 3C**"
   ]
  },
  {
   "cell_type": "code",
   "execution_count": null,
   "metadata": {
    "colab": {
     "base_uri": "https://localhost:8080/"
    },
    "id": "A3613R3Si7IN",
    "outputId": "00a92b62-8b4c-43b1-ebb6-1c31d5b086b9"
   },
   "outputs": [],
   "source": [
    "# Feature extraction\n",
    "def extract_features3c(text):\n",
    "    char_count = textstat.char_count(text)\n",
    "    word_count = textstat.lexicon_count(text, removepunct=True)\n",
    "    sent_count = textstat.sentence_count(text)\n",
    "    words_per_sent = word_count / sent_count if sent_count > 0 else 0\n",
    "    polysyll_count = textstat.polysyllabcount(text)\n",
    "    uniq_words = len(set(nltk.word_tokenize(text)))\n",
    "    uniq_word_ratio = uniq_words / word_count if word_count > 0 else 0\n",
    "    fk_grade = textstat.flesch_kincaid_grade(text)\n",
    "    gf_index = textstat.gunning_fog(text)\n",
    "    read_time = textstat.reading_time(text, ms_per_char=14.69)\n",
    "    complexity = textstat.flesch_reading_ease(text)\n",
    "    return [char_count, word_count, sent_count, words_per_sent, polysyll_count, uniq_words, uniq_word_ratio, fk_grade, gf_index, read_time, complexity]\n",
    "\n",
    "# Applying feature extraction\n",
    "features3c = task_b_df['prompt'].apply(extract_features3c)\n",
    "features3c_df = pd.DataFrame(features3c.tolist(), columns=['char_count', 'word_count', 'sent_count', 'words_per_sent',\n",
    "                                                         'polysyll_count', 'uniq_words', 'uniq_word_ratio',\n",
    "                                                         'fk_grade', 'gf_index', 'readability', 'complexity'])\n",
    "\n",
    "# Reset the indices of both DataFrames if the indices do not matter\n",
    "features3c_df = features3c_df.reset_index(drop=True)\n",
    "\n",
    "# Add embeddings to feature set\n",
    "features3c_df = pd.concat([features3c_df, embeddings_matrix], axis=1)\n",
    "\n",
    "# Split data into training and testing sets\n",
    "X_train, X_test, y_train, y_test = train_test_split(features3c_df, task_b_df['average_score'], test_size=0.2, random_state=42)\n",
    "\n",
    "# Model training\n",
    "model3c = LinearRegression()\n",
    "model3c.fit(X_train, y_train)\n",
    "\n",
    "# Predict and evaluate\n",
    "predictions3c = model3c.predict(X_test).round().astype(int)\n",
    "mse3c = mean_squared_error(y_test, predictions3c)\n",
    "print(\"Mean Squared Error:\", mse3c)\n"
   ]
  },
  {
   "cell_type": "code",
   "execution_count": null,
   "metadata": {
    "colab": {
     "base_uri": "https://localhost:8080/"
    },
    "id": "WN2HAhjjjHez",
    "outputId": "2da5497f-5d7e-4b27-d7e5-d2feba9d9f46"
   },
   "outputs": [],
   "source": [
    "# Feature Set 3c (prompt-text + complexity + embeddings)\n",
    "\n",
    "# 5 K-Fold Cross-Validation\n",
    "\n",
    "X = features3c_df\n",
    "y = task_b_df['average_score']\n",
    "\n",
    "kf = KFold(n_splits=5, shuffle=True, random_state=42)\n",
    "\n",
    "# Perform cross-validation\n",
    "scores3c = cross_val_score(model3c, X, y, cv=kf, scoring='neg_mean_squared_error')#.round().astype(int)\n",
    "\n",
    "# Since the scores are negative MSE, we might want to convert them to positive MSE\n",
    "mse3c_scores = -scores3c\n",
    "\n",
    "print(\"MSE scores for each fold:\", mse3c_scores)\n",
    "print(\"Average MSE:\", mse3c_scores.mean())"
   ]
  },
  {
   "cell_type": "code",
   "execution_count": null,
   "metadata": {
    "id": "fv0HpDUUk2bl"
   },
   "outputs": [],
   "source": []
  },
  {
   "cell_type": "markdown",
   "metadata": {
    "id": "5ZjwY6ztJM_2"
   },
   "source": [
    "# **5. Test on Validation Dataset**"
   ]
  },
  {
   "cell_type": "markdown",
   "metadata": {
    "id": "lkdaZtA2WZfD"
   },
   "source": [
    "## 5a. Import & Clean Validation Data"
   ]
  },
  {
   "cell_type": "code",
   "execution_count": null,
   "metadata": {
    "colab": {
     "base_uri": "https://localhost:8080/",
     "height": 98
    },
    "id": "UZ2h7VhYJdzb",
    "outputId": "9885ea38-8900-4001-c473-18aa720100af"
   },
   "outputs": [],
   "source": [
    "# Import validation set - prompts\n",
    "\n",
    "# Provide the raw URL of the JSON file\n",
    "validation_prompts_url = \"https://raw.githubusercontent.com/dychenster/nlp-chatarena/main/arena-validation-set-prompt-only.jsonl.gz\"\n",
    "\n",
    "# Read the JSON file into a DataFrame\n",
    "validation_prompts = pd.read_json(validation_prompts_url, lines=True)\n",
    "\n",
    "# Display the first row of the data\n",
    "display(validation_prompts.head(1))\n",
    "display(validation_prompts.shape)"
   ]
  },
  {
   "cell_type": "code",
   "execution_count": null,
   "metadata": {
    "colab": {
     "base_uri": "https://localhost:8080/",
     "height": 98
    },
    "id": "gwqSyhT9KZ9q",
    "outputId": "c96d4b97-0be2-42e4-c83c-7c35ebb8e0c0"
   },
   "outputs": [],
   "source": [
    "# Import validation set - topic modeling\n",
    "\n",
    "# Provide the raw URL of the JSON file\n",
    "validation_topics_url = \"https://raw.githubusercontent.com/dychenster/nlp-chatarena/main/arena-validation-set-topic-modeling.jsonl.gz\"\n",
    "\n",
    "# Read the JSON file into a DataFrame\n",
    "validation_topics = pd.read_json(validation_topics_url, lines=True)\n",
    "\n",
    "# Display the first row of the data\n",
    "display(validation_topics.head(1))\n",
    "display(validation_topics.shape)"
   ]
  },
  {
   "cell_type": "code",
   "execution_count": null,
   "metadata": {
    "colab": {
     "base_uri": "https://localhost:8080/"
    },
    "id": "b8MKrPhKAPLX",
    "outputId": "a7612ae3-f4c6-4457-d505-c63b84a05bbc"
   },
   "outputs": [],
   "source": [
    "# Import validation set - embeddings\n",
    "\n",
    "# Provide the raw URL of the JSON file\n",
    "validation_embeddings_url = \"https://raw.githubusercontent.com/dychenster/nlp-chatarena/main/arena-validation-set-prompts-embeddings.npy\"\n",
    "\n",
    "# Use requests to get the file content\n",
    "response_val = requests.get(validation_embeddings_url)\n",
    "\n",
    "# Make sure the request was successful\n",
    "if response_val.status_code == 200:\n",
    "    # Load the content into a numpy array\n",
    "    validation_content = BytesIO(response_val.content)\n",
    "    validation_embeddings = np.load(validation_content)\n",
    "    print(\"Embeddings loaded successfully into Colab.\")\n",
    "else:\n",
    "    print(f\"Failed to load the file. Status code: {response.status_code}\")"
   ]
  },
  {
   "cell_type": "code",
   "execution_count": null,
   "metadata": {
    "colab": {
     "base_uri": "https://localhost:8080/"
    },
    "id": "7tP5uMewBLFQ",
    "outputId": "0c0cee08-72e6-4294-8286-42dbbab8c376"
   },
   "outputs": [],
   "source": [
    "val_embeddings_df = pd.DataFrame(validation_embeddings, columns=[f'e_{i}' for i in range(256)])\n",
    "val_embeddings_df.shape"
   ]
  },
  {
   "cell_type": "code",
   "execution_count": null,
   "metadata": {
    "colab": {
     "base_uri": "https://localhost:8080/"
    },
    "id": "J-qBylfWLj33",
    "outputId": "df249e73-3ec9-40c8-e8b5-09470a955be8"
   },
   "outputs": [],
   "source": [
    "validation_df = validation_prompts.merge(validation_topics, on=\"question_id\")\n",
    "validation_df.shape"
   ]
  },
  {
   "cell_type": "code",
   "execution_count": null,
   "metadata": {
    "colab": {
     "base_uri": "https://localhost:8080/"
    },
    "id": "sR3NJy6oL-03",
    "outputId": "9a6d82e5-ce39-4483-86d0-ad7f2e07085b"
   },
   "outputs": [],
   "source": [
    "print(validation_prompts['question_id'].duplicated().sum())\n",
    "print(validation_topics['question_id'].duplicated().sum())"
   ]
  },
  {
   "cell_type": "code",
   "execution_count": null,
   "metadata": {
    "colab": {
     "base_uri": "https://localhost:8080/"
    },
    "id": "NEntN1Z1NI36",
    "outputId": "57482933-db0d-4db5-fce1-0e6263c6f93a"
   },
   "outputs": [],
   "source": [
    "# Identify duplicate rows in the 'validation_prompts' DataFrame\n",
    "duplicate_prompts = validation_prompts[validation_prompts.duplicated(subset='question_id', keep=False)]\n",
    "\n",
    "# Identify duplicate rows in the 'validation_topics' DataFrame\n",
    "duplicate_topics = validation_topics[validation_topics.duplicated(subset='question_id', keep=False)]\n",
    "\n",
    "# Display the duplicate rows\n",
    "print(\"Duplicate rows in validation_prompts based on question_id:\")\n",
    "print(duplicate_prompts)\n",
    "\n",
    "print(\"\\nDuplicate rows in validation_topics based on question_id:\")\n",
    "print(duplicate_topics)"
   ]
  },
  {
   "cell_type": "code",
   "execution_count": null,
   "metadata": {
    "colab": {
     "base_uri": "https://localhost:8080/"
    },
    "id": "cS978HZyU_UV",
    "outputId": "2fc4bbe8-9189-4b8b-d4cd-e52cb9a27818"
   },
   "outputs": [],
   "source": [
    "# Add a column to mark the first two duplicates\n",
    "validation_df['duplicate_count'] = validation_df.groupby('question_id').cumcount()\n",
    "\n",
    "# Keep only the first two duplicates (i.e., where duplicate_count is 0 or 1)\n",
    "validation_df_filtered = validation_df[validation_df['duplicate_count'] < 2].copy()\n",
    "\n",
    "# Now drop the 'duplicate_count' column as it's no longer needed\n",
    "validation_df_filtered.drop('duplicate_count', axis=1, inplace=True)\n",
    "\n",
    "# Verify the result\n",
    "print(validation_df_filtered.shape)"
   ]
  },
  {
   "cell_type": "code",
   "execution_count": null,
   "metadata": {
    "colab": {
     "base_uri": "https://localhost:8080/",
     "height": 310
    },
    "id": "sdFe12ChWeb1",
    "outputId": "0dc60950-08f7-4889-8284-0d11688032ea"
   },
   "outputs": [],
   "source": [
    "validation_df_filtered.drop(columns=[\"prompt_y\"], inplace=True)\n",
    "validation_df_filtered.rename(columns = {\"prompt_x\":\"prompt\"}, inplace=True)\n",
    "validation_df_filtered.head()"
   ]
  },
  {
   "cell_type": "code",
   "execution_count": null,
   "metadata": {
    "colab": {
     "base_uri": "https://localhost:8080/",
     "height": 81
    },
    "id": "32xqz-LEH90-",
    "outputId": "0c99f6d1-a0fe-4089-f784-2ce1ab0ccfd6"
   },
   "outputs": [],
   "source": [
    "validation_df_filtered.head(1)"
   ]
  },
  {
   "cell_type": "code",
   "execution_count": null,
   "metadata": {
    "colab": {
     "base_uri": "https://localhost:8080/",
     "height": 981
    },
    "id": "yNqNfPJWInAw",
    "outputId": "1c0ac30e-be15-496f-93aa-5c46c731a674"
   },
   "outputs": [],
   "source": [
    "task_b_val_df = validation_df_filtered.copy()\n",
    "\n",
    "# Add embeddings\n",
    "task_b_val_df.reset_index(drop=True, inplace=True)\n",
    "val_embeddings_df.reset_index(drop=True, inplace=True)\n",
    "\n",
    "task_b_val_df = pd.concat([task_b_val_df, val_embeddings_df], axis=1)\n",
    "task_b_val_df.head(1)\n"
   ]
  },
  {
   "cell_type": "code",
   "execution_count": null,
   "metadata": {},
   "outputs": [],
   "source": []
  },
  {
   "cell_type": "markdown",
   "metadata": {
    "id": "FdX-2GRj8n2T"
   },
   "source": [
    "## 5b. Test Models Using Validation Set"
   ]
  },
  {
   "cell_type": "code",
   "execution_count": null,
   "metadata": {
    "id": "71HGhr-i3c7l"
   },
   "outputs": [],
   "source": [
    "# Validation Distribution for Reference\n",
    "\n",
    "# hardness_score\n",
    "# 1     204\n",
    "# 2     377\n",
    "# 3      87\n",
    "# 4      74\n",
    "# 5     189\n",
    "# 6     182\n",
    "# 7    1087\n",
    "# 8     913\n",
    "# 9      93\n",
    "# Name: count, dtype: int64\n"
   ]
  },
  {
   "cell_type": "markdown",
   "metadata": {
    "id": "VtMYPwBMWAX1"
   },
   "source": [
    "**TASK A PREDICTIONS**"
   ]
  },
  {
   "cell_type": "code",
   "execution_count": null,
   "metadata": {
    "id": "5VtnSde8pr5U"
   },
   "outputs": [],
   "source": [
    "# Create dataframe for Task A testing\n",
    "\n",
    "task_a_df = validation_df_filtered.copy()\n",
    "\n",
    "task_a_df[\"prompt_length\"] = task_a_df[\"prompt\"].str.len()\n",
    "task_a_df[\"prompt_complexity\"] = (task_a_df[\"prompt\"]).apply(textstat.flesch_reading_ease)\n",
    "task_a_df[\"prompt_grade\"] = task_a_df[\"prompt\"].apply(lambda x: textstat.text_standard(x, float_output=True))\n",
    "task_a_df[\"prompt_time\"] = task_a_df[\"prompt\"].apply(lambda x: textstat.reading_time(x, ms_per_char=14.69))"
   ]
  },
  {
   "cell_type": "code",
   "execution_count": null,
   "metadata": {
    "id": "8MMhpmVg8_RG"
   },
   "outputs": [],
   "source": [
    "task_a_df[\"model_a_win_rate\"] = task_a_df[\"model_a\"].map(win_rates)\n",
    "task_a_df[\"model_b_win_rate\"] = task_a_df[\"model_b\"].map(win_rates)"
   ]
  },
  {
   "cell_type": "code",
   "execution_count": null,
   "metadata": {
    "colab": {
     "base_uri": "https://localhost:8080/"
    },
    "id": "3nqbfYHzRlr8",
    "outputId": "16309fee-9645-4939-fec4-eca141f983ab"
   },
   "outputs": [],
   "source": [
    "models_combined"
   ]
  },
  {
   "cell_type": "code",
   "execution_count": null,
   "metadata": {
    "id": "9vygWpMg9at7"
   },
   "outputs": [],
   "source": [
    "# Initialize the columns to zero\n",
    "for model in models_combined:\n",
    "    task_a_df[model] = 0\n",
    "\n",
    "# Use logical OR to combine the one-hot encoding for both model_a and model_b\n",
    "for model in models_combined:\n",
    "    task_a_df[model] = ((task_a_df[\"model_a\"] == model) | (task_a_df[\"model_b\"] == model)).astype(int)"
   ]
  },
  {
   "cell_type": "code",
   "execution_count": null,
   "metadata": {
    "colab": {
     "base_uri": "https://localhost:8080/"
    },
    "id": "8qk9VcWMR6DC",
    "outputId": "adc3ef5e-10db-4933-84ce-ee961a2492e2"
   },
   "outputs": [],
   "source": [
    "task_a_df.columns"
   ]
  },
  {
   "cell_type": "code",
   "execution_count": null,
   "metadata": {
    "id": "nX7qJO47WFIP"
   },
   "outputs": [],
   "source": [
    "X_validation = task_a_df[features]\n",
    "y_validation_pred_encoded = model_task_a.predict(X_validation)\n",
    "\n",
    "# Decode the predictions back to the original labels\n",
    "winner_predictions = le.inverse_transform(y_validation_pred_encoded)"
   ]
  },
  {
   "cell_type": "code",
   "execution_count": null,
   "metadata": {
    "id": "X6se8ARF439e"
   },
   "outputs": [],
   "source": []
  },
  {
   "cell_type": "markdown",
   "metadata": {
    "id": "0reEzFqAE1ur"
   },
   "source": [
    "**TASK B PREDICTIONS**"
   ]
  },
  {
   "cell_type": "code",
   "execution_count": null,
   "metadata": {},
   "outputs": [],
   "source": [
    "# Examine variability in model performance"
   ]
  },
  {
   "cell_type": "code",
   "execution_count": null,
   "metadata": {
    "colab": {
     "base_uri": "https://localhost:8080/"
    },
    "id": "_4MtChVW-2Hx",
    "outputId": "6ab48367-57b0-4adb-cfe9-dc637cc390b1"
   },
   "outputs": [],
   "source": [
    "# TEST MODEL 1A\n",
    "\n",
    "# Predict and evaluate\n",
    "val_predictions1a = model1a.predict(val_embeddings_df).astype(int)\n",
    "print(\"Predicted Hardness Score:\", val_predictions1a[0])"
   ]
  },
  {
   "cell_type": "code",
   "execution_count": null,
   "metadata": {
    "colab": {
     "base_uri": "https://localhost:8080/"
    },
    "id": "bYHBvI0zPaeR",
    "outputId": "b6841395-20c8-4783-9027-119426b1ea76"
   },
   "outputs": [],
   "source": [
    "# TEST MODEL 2D\n",
    "\n",
    "# Applying feature extraction\n",
    "val_features2d = task_b_val_df['prompt'].apply(extract_features2d)\n",
    "val_features2d_df = pd.DataFrame(val_features2d.tolist(), columns=['char_count', 'word_count', 'sent_count', 'words_per_sent', 'polysyll_count', 'uniq_words', 'uniq_word_ratio', 'fk_grade', 'gf_index'])\n",
    "\n",
    "# Reset the indices of both DataFrames if the indices do not matter\n",
    "val_features2d_df = val_features2d_df.reset_index(drop=True)\n",
    "\n",
    "# Predict and evaluate\n",
    "val_predictions2d = model2d.predict(val_features2d_df).round().astype(int)\n",
    "print(\"Predicted Hardness Score:\", val_predictions2d[0])"
   ]
  },
  {
   "cell_type": "code",
   "execution_count": null,
   "metadata": {
    "colab": {
     "base_uri": "https://localhost:8080/"
    },
    "id": "CZSHuO_3IzsJ",
    "outputId": "f2227387-5e82-4b4e-aa7c-e222cc1d0c0e"
   },
   "outputs": [],
   "source": [
    "# TEST MODEL 2E\n",
    "\n",
    "# Applying feature extraction\n",
    "val_features2e = task_b_val_df['prompt'].apply(extract_features2e)\n",
    "val_features2e_df = pd.DataFrame(val_features2e.tolist(), columns=['char_count', 'word_count', 'sent_count', 'words_per_sent',\n",
    "                                                         'polysyll_count', 'uniq_words', 'uniq_word_ratio',\n",
    "                                                         'fk_grade', 'gf_index', 'readability', 'complexity'])\n",
    "\n",
    "# Reset the indices of both DataFrames if the indices do not matter\n",
    "val_features2e_df = val_features2e_df.reset_index(drop=True)\n",
    "\n",
    "# Predict and evaluate\n",
    "val_predictions2e = model2e.predict(val_features2e_df).round().astype(int)\n",
    "print(\"Predicted Hardness Score:\", val_predictions2e[0])"
   ]
  },
  {
   "cell_type": "code",
   "execution_count": null,
   "metadata": {
    "colab": {
     "base_uri": "https://localhost:8080/"
    },
    "id": "4Zn-uF6qE0lJ",
    "outputId": "90aad155-9c94-4be3-8c9d-3e1d01a142f0"
   },
   "outputs": [],
   "source": [
    "# TEST MODEL 3A\n",
    "\n",
    "# Applying feature extraction\n",
    "val_features3a = task_b_val_df['prompt'].apply(extract_features3a)\n",
    "val_features3a_df = pd.DataFrame(val_features3a.tolist(), columns=['char_count', 'word_count', 'char_word_ratio', 'sent_count', 'words_per_sent', 'uniq_words'])\n",
    "\n",
    "# Reset the indices of both DataFrames if the indices do not matter\n",
    "val_features3a_df = val_features3a_df.reset_index(drop=True)\n",
    "\n",
    "val_features3a_df = pd.concat([val_features3a_df, val_embeddings_df], axis=1)\n",
    "\n",
    "# Predict and evaluate\n",
    "val_predictions3a = model3a.predict(val_features3a_df).astype(int)\n",
    "print(\"Predicted Hardness Score:\", val_predictions3a[0])"
   ]
  },
  {
   "cell_type": "code",
   "execution_count": null,
   "metadata": {
    "colab": {
     "base_uri": "https://localhost:8080/"
    },
    "id": "Th9VkmTewxhK",
    "outputId": "623bfd1f-7570-4951-d699-24386de8fe49"
   },
   "outputs": [],
   "source": [
    "# TEST MODEL 3C\n",
    "\n",
    "# Applying feature extraction\n",
    "val_features3c = task_b_val_df['prompt'].apply(extract_features3c)\n",
    "val_features3c_df = pd.DataFrame(val_features3c.tolist(), columns=['char_count', 'word_count', 'sent_count', 'words_per_sent',\n",
    "                                                         'polysyll_count', 'uniq_words', 'uniq_word_ratio',\n",
    "                                                         'fk_grade', 'gf_index', 'readability', 'complexity'])\n",
    "\n",
    "# Reset the indices of both DataFrames if the indices do not matter\n",
    "val_features3c_df = val_features3c_df.reset_index(drop=True)\n",
    "# Add embeddings\n",
    "val_features3c_df = pd.concat([val_features3c_df, val_embeddings_df], axis=1)\n",
    "\n",
    "# Predict and evaluate\n",
    "val_predictions3c = model3c.predict(val_features3c_df).round().astype(int)\n",
    "print(\"Predicted Hardness Score:\", val_predictions3c[0])"
   ]
  },
  {
   "cell_type": "code",
   "execution_count": null,
   "metadata": {
    "id": "vp1y-_RP_WBd"
   },
   "outputs": [],
   "source": []
  },
  {
   "cell_type": "code",
   "execution_count": null,
   "metadata": {
    "id": "Eq4sonQ5QlSO"
   },
   "outputs": [],
   "source": []
  },
  {
   "cell_type": "markdown",
   "metadata": {
    "id": "3LCH7SwVpsib"
   },
   "source": [
    "# **6. Create CSV for Download**"
   ]
  },
  {
   "cell_type": "code",
   "execution_count": null,
   "metadata": {},
   "outputs": [],
   "source": [
    "from IPython.display import FileLink"
   ]
  },
  {
   "cell_type": "code",
   "execution_count": null,
   "metadata": {},
   "outputs": [],
   "source": [
    "# MODEL 1A PREDICTIONS\n",
    "\n",
    "# Create DataFrame with specified columns\n",
    "submission1a_df = pd.DataFrame({\n",
    "    'question_id': validation_df_filtered['question_id'],\n",
    "    'winner': winner_predictions, # list or array of winners\n",
    "    'hardness_score': val_predictions1a},\n",
    "    columns=['question_id', 'winner', 'hardness_score'])\n",
    "\n",
    "# Save the DataFrame to a CSV file\n",
    "submission1a_df.to_csv('submission1a.csv', index=False)\n",
    "\n",
    "# Provide a link to download the file\n",
    "display(FileLink('submission1a.csv'))"
   ]
  },
  {
   "cell_type": "code",
   "execution_count": null,
   "metadata": {},
   "outputs": [],
   "source": [
    "# MODEL 2D PREDICTIONS\n",
    "\n",
    "# Create DataFrame with specified columns\n",
    "submission2d_df = pd.DataFrame({\n",
    "    'question_id': validation_df_filtered['question_id'],\n",
    "    'winner': winner_predictions, # list or array of winners\n",
    "    'hardness_score': val_predictions2d},\n",
    "    columns=['question_id', 'winner', 'hardness_score'])\n",
    "\n",
    "# Save the DataFrame to a CSV file\n",
    "submission2d_df.to_csv('submission2d.csv', index=False)\n",
    "\n",
    "# Provide a link to download the file\n",
    "display(FileLink('submission2d.csv'))"
   ]
  },
  {
   "cell_type": "code",
   "execution_count": null,
   "metadata": {},
   "outputs": [],
   "source": [
    "# MODEL 2E PREDICTIONS\n",
    "\n",
    "# Create DataFrame with specified columns\n",
    "submission2e_df = pd.DataFrame({\n",
    "    'question_id': validation_df_filtered['question_id'],\n",
    "    'winner': winner_predictions, # list or array of winners\n",
    "    'hardness_score': val_predictions2e},\n",
    "    columns=['question_id', 'winner', 'hardness_score'])\n",
    "\n",
    "# Save the DataFrame to a CSV file\n",
    "submission2e_df.to_csv('submission2e.csv', index=False)\n",
    "\n",
    "# Provide a link to download the file\n",
    "display(FileLink('submission2e.csv'))"
   ]
  },
  {
   "cell_type": "code",
   "execution_count": null,
   "metadata": {
    "id": "XkmF9yDDQ5y0"
   },
   "outputs": [],
   "source": [
    "# MODEL 3A PREDICTIONS\n",
    "\n",
    "# Create DataFrame with specified columns\n",
    "submission3a_df = pd.DataFrame({\n",
    "    'question_id': validation_df_filtered['question_id'],\n",
    "    'winner': winner_predictions, # list or array of winners\n",
    "    'hardness_score': val_predictions3a},\n",
    "    columns=['question_id', 'winner', 'hardness_score'])\n",
    "\n",
    "# Save the DataFrame to a CSV file\n",
    "submission3a_df.to_csv('submission3a.csv', index=False)\n",
    "\n",
    "# Provide a link to download the file\n",
    "display(FileLink('submission3a.csv'))"
   ]
  },
  {
   "cell_type": "code",
   "execution_count": null,
   "metadata": {
    "colab": {
     "base_uri": "https://localhost:8080/",
     "height": 17
    },
    "id": "k3OsthlhkMek",
    "outputId": "9d3677b9-65b6-4c49-dea9-be186a007620"
   },
   "outputs": [],
   "source": [
    "# MODEL 3C PREDICTIONS\n",
    "\n",
    "# Create DataFrame with specified columns\n",
    "submission3c_df = pd.DataFrame({\n",
    "    'question_id': validation_df_filtered['question_id'],\n",
    "    'winner': winner_predictions, # list or array of winners\n",
    "    'hardness_score': val_predictions3c},\n",
    "    columns=['question_id', 'winner', 'hardness_score'])\n",
    "\n",
    "# Save the DataFrame to a CSV file\n",
    "submission3c_df.to_csv('submission3c.csv', index=False)\n",
    "\n",
    "# Provide a link to download the file\n",
    "display(FileLink('submission3c.csv'))"
   ]
  },
  {
   "cell_type": "code",
   "execution_count": null,
   "metadata": {
    "id": "0M3J2hmHoO9J"
   },
   "outputs": [],
   "source": []
  },
  {
   "cell_type": "code",
   "execution_count": null,
   "metadata": {
    "id": "17e_GGrM4Zv6"
   },
   "outputs": [],
   "source": []
  },
  {
   "cell_type": "markdown",
   "metadata": {},
   "source": [
    "***References:***\n",
    "\n",
    "[1] N. Mehrabi, F. Morstatter, N. Saxena, K. Lerman, and A. Galstyan, \"A Survey on Bias and Fairness in Machine Learning,\" arXiv:1908.09635v2 [cs.LG], Sep. 2019. Available: https://arxiv.org/abs/1908.09635\n",
    "\n",
    "[2] C.-H. Chiang and H.-y. Lee, \"Can Large Language Models Be an Alternative to Human Evaluation?\" in Proceedings of the 61st Annual Meeting of the Association for Computational Linguistics (ACL), Volume 1: Long Papers, pp. 15607–15631, July 2023. Available: https://www.aclweb.org/anthology/2023.acl-long.870\n",
    "\n",
    "[3] van der Lee, C., Gatt, A., van Miltenburg, E., & Krahmer, E. (2021). Human evaluation of automatically generated text: Current trends and best practice guidelines. Computer Speech &amp; Language, 67, 101151. doi:10.1016/j.csl.2020.101151\n",
    "\n",
    "[4] W.-L. Chiang, L. Zheng, Y. Sheng, A. N. Angelopoulos, T. Li, D. Li, B. Zhu, H. Zhang, M. I. Jordan, J. E. Gonzalez, and I. Stoica, \"Chatbot Arena: An Open Platform for Evaluating LLMs by Human Preference,\" arXiv:2403.04132v1 [cs.AI], Mar. 2024. Available: https://arxiv.org/abs/2403.04132\n"
   ]
  },
  {
   "cell_type": "code",
   "execution_count": null,
   "metadata": {},
   "outputs": [],
   "source": []
  }
 ],
 "metadata": {
  "colab": {
   "provenance": []
  },
  "kernelspec": {
   "display_name": "Python 3 (ipykernel)",
   "language": "python",
   "name": "python3"
  },
  "language_info": {
   "codemirror_mode": {
    "name": "ipython",
    "version": 3
   },
   "file_extension": ".py",
   "mimetype": "text/x-python",
   "name": "python",
   "nbconvert_exporter": "python",
   "pygments_lexer": "ipython3",
   "version": "3.11.9"
  }
 },
 "nbformat": 4,
 "nbformat_minor": 4
}
